{
 "cells": [
  {
   "cell_type": "markdown",
   "source": [
    "### Data Cleaning\n",
    "In this notebook we use separate python scripts to clean our data.\n",
    "\n",
    "Let's start with loading our olympics dataset."
   ],
   "metadata": {
    "collapsed": false
   },
   "id": "bb59a018e55d3f61"
  },
  {
   "cell_type": "code",
   "execution_count": 1,
   "outputs": [],
   "source": [
    "import matplotlib.pyplot as plt\n",
    "import olympics"
   ],
   "metadata": {
    "collapsed": false,
    "ExecuteTime": {
     "end_time": "2023-12-05T18:06:34.057349400Z",
     "start_time": "2023-12-05T18:06:33.757749900Z"
    }
   },
   "id": "initial_id"
  },
  {
   "cell_type": "code",
   "execution_count": 2,
   "outputs": [],
   "source": [
    "ol_data = olympics.clean_data()"
   ],
   "metadata": {
    "collapsed": false,
    "ExecuteTime": {
     "end_time": "2023-12-05T18:06:36.088591200Z",
     "start_time": "2023-12-05T18:06:36.065075200Z"
    }
   },
   "id": "95f7e46451e8503c"
  },
  {
   "cell_type": "code",
   "execution_count": 3,
   "outputs": [
    {
     "data": {
      "text/plain": "                                          Country  Summer_Games  Summer_Gold  \\\n0                               Afghanistan (AFG)            13            0   \n1                                   Algeria (ALG)            12            5   \n2                                 Argentina (ARG)            23           18   \n3                                   Armenia (ARM)             5            1   \n4                         Australasia (ANZ) [ANZ]             2            3   \n..                                            ...           ...          ...   \n141                        Yugoslavia (YUG) [YUG]            16           26   \n142  Independent Olympic Participants (IOP) [IOP]             1            0   \n143                            Zambia (ZAM) [ZAM]            12            0   \n144                          Zimbabwe (ZIM) [ZIM]            12            3   \n145                        Mixed team (ZZX) [ZZX]             3            8   \n\n     Summer_Silver  Summer_Bronze  Summer_Total  Winter_Games  Winter_Gold  \\\n0                0              2             2             0            0   \n1                2              8            15             3            0   \n2               24             28            70            18            0   \n3                2              9            12             6            0   \n4                4              5            12             0            0   \n..             ...            ...           ...           ...          ...   \n141             29             28            83            14            0   \n142              1              2             3             0            0   \n143              1              1             2             0            0   \n144              4              1             8             1            0   \n145              5              4            17             0            0   \n\n     Winter_Silver  Winter_Bronze  Winter_Total  Games_Total  Games_Gold  \\\n0                0              0             0           13           0   \n1                0              0             0           15           5   \n2                0              0             0           41          18   \n3                0              0             0           11           1   \n4                0              0             0            2           3   \n..             ...            ...           ...          ...         ...   \n141              3              1             4           30          26   \n142              0              0             0            1           0   \n143              0              0             0           12           0   \n144              0              0             0           13           3   \n145              0              0             0            3           8   \n\n     Games_Silver  Games_Bronze  Combined_Total  \n0               0             2               2  \n1               2             8              15  \n2              24            28              70  \n3               2             9              12  \n4               4             5              12  \n..            ...           ...             ...  \n141            32            29              87  \n142             1             2               3  \n143             1             1               2  \n144             4             1               8  \n145             5             4              17  \n\n[146 rows x 16 columns]",
      "text/html": "<div>\n<style scoped>\n    .dataframe tbody tr th:only-of-type {\n        vertical-align: middle;\n    }\n\n    .dataframe tbody tr th {\n        vertical-align: top;\n    }\n\n    .dataframe thead th {\n        text-align: right;\n    }\n</style>\n<table border=\"1\" class=\"dataframe\">\n  <thead>\n    <tr style=\"text-align: right;\">\n      <th></th>\n      <th>Country</th>\n      <th>Summer_Games</th>\n      <th>Summer_Gold</th>\n      <th>Summer_Silver</th>\n      <th>Summer_Bronze</th>\n      <th>Summer_Total</th>\n      <th>Winter_Games</th>\n      <th>Winter_Gold</th>\n      <th>Winter_Silver</th>\n      <th>Winter_Bronze</th>\n      <th>Winter_Total</th>\n      <th>Games_Total</th>\n      <th>Games_Gold</th>\n      <th>Games_Silver</th>\n      <th>Games_Bronze</th>\n      <th>Combined_Total</th>\n    </tr>\n  </thead>\n  <tbody>\n    <tr>\n      <th>0</th>\n      <td>Afghanistan (AFG)</td>\n      <td>13</td>\n      <td>0</td>\n      <td>0</td>\n      <td>2</td>\n      <td>2</td>\n      <td>0</td>\n      <td>0</td>\n      <td>0</td>\n      <td>0</td>\n      <td>0</td>\n      <td>13</td>\n      <td>0</td>\n      <td>0</td>\n      <td>2</td>\n      <td>2</td>\n    </tr>\n    <tr>\n      <th>1</th>\n      <td>Algeria (ALG)</td>\n      <td>12</td>\n      <td>5</td>\n      <td>2</td>\n      <td>8</td>\n      <td>15</td>\n      <td>3</td>\n      <td>0</td>\n      <td>0</td>\n      <td>0</td>\n      <td>0</td>\n      <td>15</td>\n      <td>5</td>\n      <td>2</td>\n      <td>8</td>\n      <td>15</td>\n    </tr>\n    <tr>\n      <th>2</th>\n      <td>Argentina (ARG)</td>\n      <td>23</td>\n      <td>18</td>\n      <td>24</td>\n      <td>28</td>\n      <td>70</td>\n      <td>18</td>\n      <td>0</td>\n      <td>0</td>\n      <td>0</td>\n      <td>0</td>\n      <td>41</td>\n      <td>18</td>\n      <td>24</td>\n      <td>28</td>\n      <td>70</td>\n    </tr>\n    <tr>\n      <th>3</th>\n      <td>Armenia (ARM)</td>\n      <td>5</td>\n      <td>1</td>\n      <td>2</td>\n      <td>9</td>\n      <td>12</td>\n      <td>6</td>\n      <td>0</td>\n      <td>0</td>\n      <td>0</td>\n      <td>0</td>\n      <td>11</td>\n      <td>1</td>\n      <td>2</td>\n      <td>9</td>\n      <td>12</td>\n    </tr>\n    <tr>\n      <th>4</th>\n      <td>Australasia (ANZ) [ANZ]</td>\n      <td>2</td>\n      <td>3</td>\n      <td>4</td>\n      <td>5</td>\n      <td>12</td>\n      <td>0</td>\n      <td>0</td>\n      <td>0</td>\n      <td>0</td>\n      <td>0</td>\n      <td>2</td>\n      <td>3</td>\n      <td>4</td>\n      <td>5</td>\n      <td>12</td>\n    </tr>\n    <tr>\n      <th>...</th>\n      <td>...</td>\n      <td>...</td>\n      <td>...</td>\n      <td>...</td>\n      <td>...</td>\n      <td>...</td>\n      <td>...</td>\n      <td>...</td>\n      <td>...</td>\n      <td>...</td>\n      <td>...</td>\n      <td>...</td>\n      <td>...</td>\n      <td>...</td>\n      <td>...</td>\n      <td>...</td>\n    </tr>\n    <tr>\n      <th>141</th>\n      <td>Yugoslavia (YUG) [YUG]</td>\n      <td>16</td>\n      <td>26</td>\n      <td>29</td>\n      <td>28</td>\n      <td>83</td>\n      <td>14</td>\n      <td>0</td>\n      <td>3</td>\n      <td>1</td>\n      <td>4</td>\n      <td>30</td>\n      <td>26</td>\n      <td>32</td>\n      <td>29</td>\n      <td>87</td>\n    </tr>\n    <tr>\n      <th>142</th>\n      <td>Independent Olympic Participants (IOP) [IOP]</td>\n      <td>1</td>\n      <td>0</td>\n      <td>1</td>\n      <td>2</td>\n      <td>3</td>\n      <td>0</td>\n      <td>0</td>\n      <td>0</td>\n      <td>0</td>\n      <td>0</td>\n      <td>1</td>\n      <td>0</td>\n      <td>1</td>\n      <td>2</td>\n      <td>3</td>\n    </tr>\n    <tr>\n      <th>143</th>\n      <td>Zambia (ZAM) [ZAM]</td>\n      <td>12</td>\n      <td>0</td>\n      <td>1</td>\n      <td>1</td>\n      <td>2</td>\n      <td>0</td>\n      <td>0</td>\n      <td>0</td>\n      <td>0</td>\n      <td>0</td>\n      <td>12</td>\n      <td>0</td>\n      <td>1</td>\n      <td>1</td>\n      <td>2</td>\n    </tr>\n    <tr>\n      <th>144</th>\n      <td>Zimbabwe (ZIM) [ZIM]</td>\n      <td>12</td>\n      <td>3</td>\n      <td>4</td>\n      <td>1</td>\n      <td>8</td>\n      <td>1</td>\n      <td>0</td>\n      <td>0</td>\n      <td>0</td>\n      <td>0</td>\n      <td>13</td>\n      <td>3</td>\n      <td>4</td>\n      <td>1</td>\n      <td>8</td>\n    </tr>\n    <tr>\n      <th>145</th>\n      <td>Mixed team (ZZX) [ZZX]</td>\n      <td>3</td>\n      <td>8</td>\n      <td>5</td>\n      <td>4</td>\n      <td>17</td>\n      <td>0</td>\n      <td>0</td>\n      <td>0</td>\n      <td>0</td>\n      <td>0</td>\n      <td>3</td>\n      <td>8</td>\n      <td>5</td>\n      <td>4</td>\n      <td>17</td>\n    </tr>\n  </tbody>\n</table>\n<p>146 rows × 16 columns</p>\n</div>"
     },
     "execution_count": 3,
     "metadata": {},
     "output_type": "execute_result"
    }
   ],
   "source": [
    "ol_data"
   ],
   "metadata": {
    "collapsed": false,
    "ExecuteTime": {
     "end_time": "2023-12-05T18:06:37.198388900Z",
     "start_time": "2023-12-05T18:06:37.186946900Z"
    }
   },
   "id": "40ece42b7d3eeb6d"
  },
  {
   "cell_type": "markdown",
   "source": [
    "Let's find out which ten countries have won the most medals overall and create a bar chart to represent it.\n",
    "\n",
    "To do that we can use the **loc** method which accepts rows and columns as filters. We can use slices eg.: loc[3:5, 1:3] or boolean expressions eg.: loc[data.loc[:,'Combined_Total'] > 400]."
   ],
   "metadata": {
    "collapsed": false
   },
   "id": "635100d82929f2c8"
  },
  {
   "cell_type": "code",
   "execution_count": 61,
   "outputs": [],
   "source": [
    "medals_per_country = ol_data.loc[:,['Country', 'Combined_Total']]"
   ],
   "metadata": {
    "collapsed": false,
    "ExecuteTime": {
     "end_time": "2023-12-05T19:41:11.505979Z",
     "start_time": "2023-12-05T19:41:11.493652Z"
    }
   },
   "id": "b7a75b4f56e58131"
  },
  {
   "cell_type": "code",
   "execution_count": 62,
   "outputs": [
    {
     "data": {
      "text/plain": "                                          Country  Combined_Total\n0                               Afghanistan (AFG)               2\n1                                   Algeria (ALG)              15\n2                                 Argentina (ARG)              70\n3                                   Armenia (ARM)              12\n4                         Australasia (ANZ) [ANZ]              12\n..                                            ...             ...\n141                        Yugoslavia (YUG) [YUG]              87\n142  Independent Olympic Participants (IOP) [IOP]               3\n143                            Zambia (ZAM) [ZAM]               2\n144                          Zimbabwe (ZIM) [ZIM]               8\n145                        Mixed team (ZZX) [ZZX]              17\n\n[146 rows x 2 columns]",
      "text/html": "<div>\n<style scoped>\n    .dataframe tbody tr th:only-of-type {\n        vertical-align: middle;\n    }\n\n    .dataframe tbody tr th {\n        vertical-align: top;\n    }\n\n    .dataframe thead th {\n        text-align: right;\n    }\n</style>\n<table border=\"1\" class=\"dataframe\">\n  <thead>\n    <tr style=\"text-align: right;\">\n      <th></th>\n      <th>Country</th>\n      <th>Combined_Total</th>\n    </tr>\n  </thead>\n  <tbody>\n    <tr>\n      <th>0</th>\n      <td>Afghanistan (AFG)</td>\n      <td>2</td>\n    </tr>\n    <tr>\n      <th>1</th>\n      <td>Algeria (ALG)</td>\n      <td>15</td>\n    </tr>\n    <tr>\n      <th>2</th>\n      <td>Argentina (ARG)</td>\n      <td>70</td>\n    </tr>\n    <tr>\n      <th>3</th>\n      <td>Armenia (ARM)</td>\n      <td>12</td>\n    </tr>\n    <tr>\n      <th>4</th>\n      <td>Australasia (ANZ) [ANZ]</td>\n      <td>12</td>\n    </tr>\n    <tr>\n      <th>...</th>\n      <td>...</td>\n      <td>...</td>\n    </tr>\n    <tr>\n      <th>141</th>\n      <td>Yugoslavia (YUG) [YUG]</td>\n      <td>87</td>\n    </tr>\n    <tr>\n      <th>142</th>\n      <td>Independent Olympic Participants (IOP) [IOP]</td>\n      <td>3</td>\n    </tr>\n    <tr>\n      <th>143</th>\n      <td>Zambia (ZAM) [ZAM]</td>\n      <td>2</td>\n    </tr>\n    <tr>\n      <th>144</th>\n      <td>Zimbabwe (ZIM) [ZIM]</td>\n      <td>8</td>\n    </tr>\n    <tr>\n      <th>145</th>\n      <td>Mixed team (ZZX) [ZZX]</td>\n      <td>17</td>\n    </tr>\n  </tbody>\n</table>\n<p>146 rows × 2 columns</p>\n</div>"
     },
     "execution_count": 62,
     "metadata": {},
     "output_type": "execute_result"
    }
   ],
   "source": [
    "medals_per_country"
   ],
   "metadata": {
    "collapsed": false,
    "ExecuteTime": {
     "end_time": "2023-12-05T19:41:13.760593600Z",
     "start_time": "2023-12-05T19:41:13.746025300Z"
    }
   },
   "id": "4f685936dfa1e426"
  },
  {
   "cell_type": "markdown",
   "source": [
    "Let's also use the **Country** column as our index. It will make it easy to create a plot."
   ],
   "metadata": {
    "collapsed": false
   },
   "id": "8cd2e678cbc02e96"
  },
  {
   "cell_type": "code",
   "execution_count": 63,
   "outputs": [
    {
     "data": {
      "text/plain": "                                              Combined_Total\nCountry                                                     \nAfghanistan (AFG)                                          2\nAlgeria (ALG)                                             15\nArgentina (ARG)                                           70\nArmenia (ARM)                                             12\nAustralasia (ANZ) [ANZ]                                   12\n...                                                      ...\nYugoslavia (YUG) [YUG]                                    87\nIndependent Olympic Participants (IOP) [IOP]               3\nZambia (ZAM) [ZAM]                                         2\nZimbabwe (ZIM) [ZIM]                                       8\nMixed team (ZZX) [ZZX]                                    17\n\n[146 rows x 1 columns]",
      "text/html": "<div>\n<style scoped>\n    .dataframe tbody tr th:only-of-type {\n        vertical-align: middle;\n    }\n\n    .dataframe tbody tr th {\n        vertical-align: top;\n    }\n\n    .dataframe thead th {\n        text-align: right;\n    }\n</style>\n<table border=\"1\" class=\"dataframe\">\n  <thead>\n    <tr style=\"text-align: right;\">\n      <th></th>\n      <th>Combined_Total</th>\n    </tr>\n    <tr>\n      <th>Country</th>\n      <th></th>\n    </tr>\n  </thead>\n  <tbody>\n    <tr>\n      <th>Afghanistan (AFG)</th>\n      <td>2</td>\n    </tr>\n    <tr>\n      <th>Algeria (ALG)</th>\n      <td>15</td>\n    </tr>\n    <tr>\n      <th>Argentina (ARG)</th>\n      <td>70</td>\n    </tr>\n    <tr>\n      <th>Armenia (ARM)</th>\n      <td>12</td>\n    </tr>\n    <tr>\n      <th>Australasia (ANZ) [ANZ]</th>\n      <td>12</td>\n    </tr>\n    <tr>\n      <th>...</th>\n      <td>...</td>\n    </tr>\n    <tr>\n      <th>Yugoslavia (YUG) [YUG]</th>\n      <td>87</td>\n    </tr>\n    <tr>\n      <th>Independent Olympic Participants (IOP) [IOP]</th>\n      <td>3</td>\n    </tr>\n    <tr>\n      <th>Zambia (ZAM) [ZAM]</th>\n      <td>2</td>\n    </tr>\n    <tr>\n      <th>Zimbabwe (ZIM) [ZIM]</th>\n      <td>8</td>\n    </tr>\n    <tr>\n      <th>Mixed team (ZZX) [ZZX]</th>\n      <td>17</td>\n    </tr>\n  </tbody>\n</table>\n<p>146 rows × 1 columns</p>\n</div>"
     },
     "execution_count": 63,
     "metadata": {},
     "output_type": "execute_result"
    }
   ],
   "source": [
    "medals_per_country.set_index('Country', inplace=True)\n",
    "medals_per_country"
   ],
   "metadata": {
    "collapsed": false,
    "ExecuteTime": {
     "end_time": "2023-12-05T19:49:58.890383600Z",
     "start_time": "2023-12-05T19:49:58.882451500Z"
    }
   },
   "id": "738ad09ad96876e1"
  },
  {
   "cell_type": "markdown",
   "source": [
    "Next, we need to sort our data and select the top ten results. "
   ],
   "metadata": {
    "collapsed": false
   },
   "id": "a08307e843da51d3"
  },
  {
   "cell_type": "code",
   "execution_count": 64,
   "outputs": [
    {
     "data": {
      "text/plain": "                                      Combined_Total\nCountry                                             \nUnited States (USA) [P] [Q] [R] [Z]             2681\nSoviet Union (URS) [URS]                        1204\nGreat Britain (GBR) [GBR] [Z]                    806\nGermany (GER) [GER] [Z]                          782\nFrance (FRA) [O] [P] [Z]                         780\n...                                              ...\nIvory Coast (CIV) [CIV]                            1\nGabon (GAB)                                        1\nEritrea (ERI)                                      1\nSenegal (SEN)                                      1\nNetherlands Antilles (AHO) [AHO] [I]               1\n\n[146 rows x 1 columns]",
      "text/html": "<div>\n<style scoped>\n    .dataframe tbody tr th:only-of-type {\n        vertical-align: middle;\n    }\n\n    .dataframe tbody tr th {\n        vertical-align: top;\n    }\n\n    .dataframe thead th {\n        text-align: right;\n    }\n</style>\n<table border=\"1\" class=\"dataframe\">\n  <thead>\n    <tr style=\"text-align: right;\">\n      <th></th>\n      <th>Combined_Total</th>\n    </tr>\n    <tr>\n      <th>Country</th>\n      <th></th>\n    </tr>\n  </thead>\n  <tbody>\n    <tr>\n      <th>United States (USA) [P] [Q] [R] [Z]</th>\n      <td>2681</td>\n    </tr>\n    <tr>\n      <th>Soviet Union (URS) [URS]</th>\n      <td>1204</td>\n    </tr>\n    <tr>\n      <th>Great Britain (GBR) [GBR] [Z]</th>\n      <td>806</td>\n    </tr>\n    <tr>\n      <th>Germany (GER) [GER] [Z]</th>\n      <td>782</td>\n    </tr>\n    <tr>\n      <th>France (FRA) [O] [P] [Z]</th>\n      <td>780</td>\n    </tr>\n    <tr>\n      <th>...</th>\n      <td>...</td>\n    </tr>\n    <tr>\n      <th>Ivory Coast (CIV) [CIV]</th>\n      <td>1</td>\n    </tr>\n    <tr>\n      <th>Gabon (GAB)</th>\n      <td>1</td>\n    </tr>\n    <tr>\n      <th>Eritrea (ERI)</th>\n      <td>1</td>\n    </tr>\n    <tr>\n      <th>Senegal (SEN)</th>\n      <td>1</td>\n    </tr>\n    <tr>\n      <th>Netherlands Antilles (AHO) [AHO] [I]</th>\n      <td>1</td>\n    </tr>\n  </tbody>\n</table>\n<p>146 rows × 1 columns</p>\n</div>"
     },
     "execution_count": 64,
     "metadata": {},
     "output_type": "execute_result"
    }
   ],
   "source": [
    "sorted_medals = medals_per_country.sort_values('Combined_Total', ascending=False)\n",
    "sorted_medals"
   ],
   "metadata": {
    "collapsed": false,
    "ExecuteTime": {
     "end_time": "2023-12-05T19:52:26.120447400Z",
     "start_time": "2023-12-05T19:52:26.111776200Z"
    }
   },
   "id": "5f3066fecf9b2169"
  },
  {
   "cell_type": "code",
   "execution_count": 65,
   "outputs": [],
   "source": [
    "sorted_medals = sorted_medals[sorted_medals['Combined_Total']>500]"
   ],
   "metadata": {
    "collapsed": false,
    "ExecuteTime": {
     "end_time": "2023-12-05T19:52:31.690251500Z",
     "start_time": "2023-12-05T19:52:31.682500800Z"
    }
   },
   "id": "8100367d740021a2"
  },
  {
   "cell_type": "code",
   "execution_count": 66,
   "outputs": [
    {
     "data": {
      "text/plain": "                                     Combined_Total\nCountry                                            \nUnited States (USA) [P] [Q] [R] [Z]            2681\nSoviet Union (URS) [URS]                       1204\nGreat Britain (GBR) [GBR] [Z]                   806\nGermany (GER) [GER] [Z]                         782\nFrance (FRA) [O] [P] [Z]                        780\nItaly (ITA) [M] [S]                             663\nSweden (SWE) [Z]                                627\nChina (CHN) [CHN]                               526\nRussia (RUS) [RUS]                              519\nEast Germany (GDR) [GDR]                        519",
      "text/html": "<div>\n<style scoped>\n    .dataframe tbody tr th:only-of-type {\n        vertical-align: middle;\n    }\n\n    .dataframe tbody tr th {\n        vertical-align: top;\n    }\n\n    .dataframe thead th {\n        text-align: right;\n    }\n</style>\n<table border=\"1\" class=\"dataframe\">\n  <thead>\n    <tr style=\"text-align: right;\">\n      <th></th>\n      <th>Combined_Total</th>\n    </tr>\n    <tr>\n      <th>Country</th>\n      <th></th>\n    </tr>\n  </thead>\n  <tbody>\n    <tr>\n      <th>United States (USA) [P] [Q] [R] [Z]</th>\n      <td>2681</td>\n    </tr>\n    <tr>\n      <th>Soviet Union (URS) [URS]</th>\n      <td>1204</td>\n    </tr>\n    <tr>\n      <th>Great Britain (GBR) [GBR] [Z]</th>\n      <td>806</td>\n    </tr>\n    <tr>\n      <th>Germany (GER) [GER] [Z]</th>\n      <td>782</td>\n    </tr>\n    <tr>\n      <th>France (FRA) [O] [P] [Z]</th>\n      <td>780</td>\n    </tr>\n    <tr>\n      <th>Italy (ITA) [M] [S]</th>\n      <td>663</td>\n    </tr>\n    <tr>\n      <th>Sweden (SWE) [Z]</th>\n      <td>627</td>\n    </tr>\n    <tr>\n      <th>China (CHN) [CHN]</th>\n      <td>526</td>\n    </tr>\n    <tr>\n      <th>Russia (RUS) [RUS]</th>\n      <td>519</td>\n    </tr>\n    <tr>\n      <th>East Germany (GDR) [GDR]</th>\n      <td>519</td>\n    </tr>\n  </tbody>\n</table>\n</div>"
     },
     "execution_count": 66,
     "metadata": {},
     "output_type": "execute_result"
    }
   ],
   "source": [
    "sorted_medals"
   ],
   "metadata": {
    "collapsed": false,
    "ExecuteTime": {
     "end_time": "2023-12-05T19:52:34.724233900Z",
     "start_time": "2023-12-05T19:52:34.704187600Z"
    }
   },
   "id": "a07c5bc3553b578d"
  },
  {
   "cell_type": "markdown",
   "source": [
    "We can make the bars in our chart different colors depending on the value they represent. Below we create a color list for **bar** chart. Each subsequent color is going to be less saturated."
   ],
   "metadata": {
    "collapsed": false
   },
   "id": "af56dc790f275b1"
  },
  {
   "cell_type": "code",
   "execution_count": 67,
   "outputs": [
    {
     "data": {
      "text/plain": "[(1.0, 0.4, 0.5),\n (0.95, 0.4, 0.5),\n (0.9, 0.4, 0.5),\n (0.85, 0.4, 0.5),\n (0.8, 0.4, 0.5),\n (0.75, 0.4, 0.5),\n (0.7, 0.4, 0.5),\n (0.6499999999999999, 0.4, 0.5),\n (0.6, 0.4, 0.5),\n (0.55, 0.4, 0.5)]"
     },
     "execution_count": 67,
     "metadata": {},
     "output_type": "execute_result"
    }
   ],
   "source": [
    "color_list = [(1-0.05*i, 0.4, 0.5) for i in range(len(sorted_medals))]\n",
    "color_list"
   ],
   "metadata": {
    "collapsed": false,
    "ExecuteTime": {
     "end_time": "2023-12-05T19:56:20.766339600Z",
     "start_time": "2023-12-05T19:56:20.758284900Z"
    }
   },
   "id": "ebd8de1d400333c7"
  },
  {
   "cell_type": "code",
   "execution_count": 68,
   "outputs": [
    {
     "data": {
      "text/plain": "<Figure size 640x480 with 1 Axes>",
      "image/png": "[encoded data removed]"
     },
     "metadata": {},
     "output_type": "display_data"
    }
   ],
   "source": [
    "ax = sorted_medals.plot(kind='bar')\n",
    "ax.set_ylabel(\"Medals\")\n",
    "ax.get_legend().remove()\n",
    "for i, bar in enumerate(ax.patches):\n",
    "    bar.set_color(color_list[i])"
   ],
   "metadata": {
    "collapsed": false,
    "ExecuteTime": {
     "end_time": "2023-12-05T19:56:23.394337900Z",
     "start_time": "2023-12-05T19:56:23.303375Z"
    }
   },
   "id": "a9744c90b1a26c7b"
  },
  {
   "cell_type": "markdown",
   "source": [
    "We are now going to explore our second dataset. This dataset contains names of universities in the United States together with the cities and states they are in."
   ],
   "metadata": {
    "collapsed": false
   },
   "id": "ccffd124c6717d96"
  },
  {
   "cell_type": "code",
   "execution_count": 2,
   "outputs": [],
   "source": [
    "import universities"
   ],
   "metadata": {
    "collapsed": false,
    "ExecuteTime": {
     "end_time": "2023-12-08T03:27:35.780707900Z",
     "start_time": "2023-12-08T03:27:35.087872800Z"
    }
   },
   "id": "f870683ae1d5c6e0"
  },
  {
   "cell_type": "code",
   "execution_count": 58,
   "outputs": [],
   "source": [
    "data = universities.clean_data()"
   ],
   "metadata": {
    "collapsed": false,
    "ExecuteTime": {
     "end_time": "2023-12-08T23:34:00.703072900Z",
     "start_time": "2023-12-08T23:34:00.682816800Z"
    }
   },
   "id": "a6603ec1305216c5"
  },
  {
   "cell_type": "code",
   "execution_count": 59,
   "outputs": [
    {
     "data": {
      "text/plain": "         State           Town                             University\n0      Alabama         Auburn                      Auburn University\n1      Alabama       Florence            University of North Alabama\n2      Alabama   Jacksonville          Jacksonville State University\n3      Alabama     Livingston             University of West Alabama\n4      Alabama     Montevallo               University of Montevallo\n..         ...            ...                                    ...\n736  Wisconsin    River Falls    University of Wisconsin–River Falls\n737  Wisconsin  Stevens Point  University of Wisconsin–Stevens Point\n738  Wisconsin       Waukesha                     Carroll University\n739  Wisconsin     Whitewater     University of Wisconsin–Whitewater\n740    Wyoming        Laramie                  University of Wyoming\n\n[741 rows x 3 columns]",
      "text/html": "<div>\n<style scoped>\n    .dataframe tbody tr th:only-of-type {\n        vertical-align: middle;\n    }\n\n    .dataframe tbody tr th {\n        vertical-align: top;\n    }\n\n    .dataframe thead th {\n        text-align: right;\n    }\n</style>\n<table border=\"1\" class=\"dataframe\">\n  <thead>\n    <tr style=\"text-align: right;\">\n      <th></th>\n      <th>State</th>\n      <th>Town</th>\n      <th>University</th>\n    </tr>\n  </thead>\n  <tbody>\n    <tr>\n      <th>0</th>\n      <td>Alabama</td>\n      <td>Auburn</td>\n      <td>Auburn University</td>\n    </tr>\n    <tr>\n      <th>1</th>\n      <td>Alabama</td>\n      <td>Florence</td>\n      <td>University of North Alabama</td>\n    </tr>\n    <tr>\n      <th>2</th>\n      <td>Alabama</td>\n      <td>Jacksonville</td>\n      <td>Jacksonville State University</td>\n    </tr>\n    <tr>\n      <th>3</th>\n      <td>Alabama</td>\n      <td>Livingston</td>\n      <td>University of West Alabama</td>\n    </tr>\n    <tr>\n      <th>4</th>\n      <td>Alabama</td>\n      <td>Montevallo</td>\n      <td>University of Montevallo</td>\n    </tr>\n    <tr>\n      <th>...</th>\n      <td>...</td>\n      <td>...</td>\n      <td>...</td>\n    </tr>\n    <tr>\n      <th>736</th>\n      <td>Wisconsin</td>\n      <td>River Falls</td>\n      <td>University of Wisconsin–River Falls</td>\n    </tr>\n    <tr>\n      <th>737</th>\n      <td>Wisconsin</td>\n      <td>Stevens Point</td>\n      <td>University of Wisconsin–Stevens Point</td>\n    </tr>\n    <tr>\n      <th>738</th>\n      <td>Wisconsin</td>\n      <td>Waukesha</td>\n      <td>Carroll University</td>\n    </tr>\n    <tr>\n      <th>739</th>\n      <td>Wisconsin</td>\n      <td>Whitewater</td>\n      <td>University of Wisconsin–Whitewater</td>\n    </tr>\n    <tr>\n      <th>740</th>\n      <td>Wyoming</td>\n      <td>Laramie</td>\n      <td>University of Wyoming</td>\n    </tr>\n  </tbody>\n</table>\n<p>741 rows × 3 columns</p>\n</div>"
     },
     "execution_count": 59,
     "metadata": {},
     "output_type": "execute_result"
    }
   ],
   "source": [
    "data"
   ],
   "metadata": {
    "collapsed": false,
    "ExecuteTime": {
     "end_time": "2023-12-08T23:34:02.403286800Z",
     "start_time": "2023-12-08T23:34:02.381496900Z"
    }
   },
   "id": "79ae303e2093b827"
  },
  {
   "cell_type": "markdown",
   "source": [
    "Our data cleaning script has done a lot of work and our data is nearly ready. You can see, however, that there are still some artefacts left. If we go to rows 27 and 28 we will see that in certain cases instead of the name of the university we have the name of the town again. A result of how the data was stored in some rows and our initial approach to clean them in our script."
   ],
   "metadata": {
    "collapsed": false
   },
   "id": "a80ba9482ccc2894"
  },
  {
   "cell_type": "code",
   "execution_count": 64,
   "outputs": [
    {
     "data": {
      "text/plain": "              Town                             University\n0           Auburn                      Auburn University\n1         Florence            University of North Alabama\n2     Jacksonville          Jacksonville State University\n3       Livingston             University of West Alabama\n4       Montevallo               University of Montevallo\n..             ...                                    ...\n736    River Falls    University of Wisconsin–River Falls\n737  Stevens Point  University of Wisconsin–Stevens Point\n738       Waukesha                     Carroll University\n739     Whitewater     University of Wisconsin–Whitewater\n740        Laramie                  University of Wyoming\n\n[741 rows x 2 columns]",
      "text/html": "<div>\n<style scoped>\n    .dataframe tbody tr th:only-of-type {\n        vertical-align: middle;\n    }\n\n    .dataframe tbody tr th {\n        vertical-align: top;\n    }\n\n    .dataframe thead th {\n        text-align: right;\n    }\n</style>\n<table border=\"1\" class=\"dataframe\">\n  <thead>\n    <tr style=\"text-align: right;\">\n      <th></th>\n      <th>Town</th>\n      <th>University</th>\n    </tr>\n  </thead>\n  <tbody>\n    <tr>\n      <th>0</th>\n      <td>Auburn</td>\n      <td>Auburn University</td>\n    </tr>\n    <tr>\n      <th>1</th>\n      <td>Florence</td>\n      <td>University of North Alabama</td>\n    </tr>\n    <tr>\n      <th>2</th>\n      <td>Jacksonville</td>\n      <td>Jacksonville State University</td>\n    </tr>\n    <tr>\n      <th>3</th>\n      <td>Livingston</td>\n      <td>University of West Alabama</td>\n    </tr>\n    <tr>\n      <th>4</th>\n      <td>Montevallo</td>\n      <td>University of Montevallo</td>\n    </tr>\n    <tr>\n      <th>...</th>\n      <td>...</td>\n      <td>...</td>\n    </tr>\n    <tr>\n      <th>736</th>\n      <td>River Falls</td>\n      <td>University of Wisconsin–River Falls</td>\n    </tr>\n    <tr>\n      <th>737</th>\n      <td>Stevens Point</td>\n      <td>University of Wisconsin–Stevens Point</td>\n    </tr>\n    <tr>\n      <th>738</th>\n      <td>Waukesha</td>\n      <td>Carroll University</td>\n    </tr>\n    <tr>\n      <th>739</th>\n      <td>Whitewater</td>\n      <td>University of Wisconsin–Whitewater</td>\n    </tr>\n    <tr>\n      <th>740</th>\n      <td>Laramie</td>\n      <td>University of Wyoming</td>\n    </tr>\n  </tbody>\n</table>\n<p>741 rows × 2 columns</p>\n</div>"
     },
     "execution_count": 64,
     "metadata": {},
     "output_type": "execute_result"
    }
   ],
   "source": [
    "data.loc[:,['Town', 'University']]"
   ],
   "metadata": {
    "collapsed": false,
    "ExecuteTime": {
     "end_time": "2023-12-08T23:43:58.116151500Z",
     "start_time": "2023-12-08T23:43:58.086429Z"
    }
   },
   "id": "3eeb882ca77bc2d7"
  },
  {
   "cell_type": "markdown",
   "source": [
    "A good approach would be to select all rows where the university name is part of the respective town field and then remove them. If we take a look at those rows we can see that there are no 'false positives'."
   ],
   "metadata": {
    "collapsed": false
   },
   "id": "9596649beb912826"
  },
  {
   "cell_type": "code",
   "execution_count": 66,
   "outputs": [
    {
     "data": {
      "text/plain": "          State                                 Town       University\n28   California                             Berkeley         Berkeley\n30   California                                Chico            Chico\n41   California                                Davis            Davis\n43   California                               Irvine           Irvine\n48   California                               Merced           Merced\n55   California                            Riverside        Riverside\n59   California                           Sacramento       Sacramento\n61   California  University District, San Bernardino   San Bernardino\n64   California                            San Diego        San Diego\n70   California                        Santa Barbara    Santa Barbara\n73   California                           Santa Cruz       Santa Cruz\n77   California                Westwood, Los Angeles      Los Angeles\n229    Maryland                         College Park     College Park\n314   Minnesota                              Mankato          Mankato\n317   Minnesota                             Moorhead         Moorhead\n356      Nevada                            Las Vegas        Las Vegas\n358      Nevada                                 Reno             Reno",
      "text/html": "<div>\n<style scoped>\n    .dataframe tbody tr th:only-of-type {\n        vertical-align: middle;\n    }\n\n    .dataframe tbody tr th {\n        vertical-align: top;\n    }\n\n    .dataframe thead th {\n        text-align: right;\n    }\n</style>\n<table border=\"1\" class=\"dataframe\">\n  <thead>\n    <tr style=\"text-align: right;\">\n      <th></th>\n      <th>State</th>\n      <th>Town</th>\n      <th>University</th>\n    </tr>\n  </thead>\n  <tbody>\n    <tr>\n      <th>28</th>\n      <td>California</td>\n      <td>Berkeley</td>\n      <td>Berkeley</td>\n    </tr>\n    <tr>\n      <th>30</th>\n      <td>California</td>\n      <td>Chico</td>\n      <td>Chico</td>\n    </tr>\n    <tr>\n      <th>41</th>\n      <td>California</td>\n      <td>Davis</td>\n      <td>Davis</td>\n    </tr>\n    <tr>\n      <th>43</th>\n      <td>California</td>\n      <td>Irvine</td>\n      <td>Irvine</td>\n    </tr>\n    <tr>\n      <th>48</th>\n      <td>California</td>\n      <td>Merced</td>\n      <td>Merced</td>\n    </tr>\n    <tr>\n      <th>55</th>\n      <td>California</td>\n      <td>Riverside</td>\n      <td>Riverside</td>\n    </tr>\n    <tr>\n      <th>59</th>\n      <td>California</td>\n      <td>Sacramento</td>\n      <td>Sacramento</td>\n    </tr>\n    <tr>\n      <th>61</th>\n      <td>California</td>\n      <td>University District, San Bernardino</td>\n      <td>San Bernardino</td>\n    </tr>\n    <tr>\n      <th>64</th>\n      <td>California</td>\n      <td>San Diego</td>\n      <td>San Diego</td>\n    </tr>\n    <tr>\n      <th>70</th>\n      <td>California</td>\n      <td>Santa Barbara</td>\n      <td>Santa Barbara</td>\n    </tr>\n    <tr>\n      <th>73</th>\n      <td>California</td>\n      <td>Santa Cruz</td>\n      <td>Santa Cruz</td>\n    </tr>\n    <tr>\n      <th>77</th>\n      <td>California</td>\n      <td>Westwood, Los Angeles</td>\n      <td>Los Angeles</td>\n    </tr>\n    <tr>\n      <th>229</th>\n      <td>Maryland</td>\n      <td>College Park</td>\n      <td>College Park</td>\n    </tr>\n    <tr>\n      <th>314</th>\n      <td>Minnesota</td>\n      <td>Mankato</td>\n      <td>Mankato</td>\n    </tr>\n    <tr>\n      <th>317</th>\n      <td>Minnesota</td>\n      <td>Moorhead</td>\n      <td>Moorhead</td>\n    </tr>\n    <tr>\n      <th>356</th>\n      <td>Nevada</td>\n      <td>Las Vegas</td>\n      <td>Las Vegas</td>\n    </tr>\n    <tr>\n      <th>358</th>\n      <td>Nevada</td>\n      <td>Reno</td>\n      <td>Reno</td>\n    </tr>\n  </tbody>\n</table>\n</div>"
     },
     "execution_count": 66,
     "metadata": {},
     "output_type": "execute_result"
    }
   ],
   "source": [
    "data[data.apply(lambda x: x['University'].strip() in x['Town'], axis=1)]"
   ],
   "metadata": {
    "collapsed": false,
    "ExecuteTime": {
     "end_time": "2023-12-08T23:50:12.106060300Z",
     "start_time": "2023-12-08T23:50:12.092656600Z"
    }
   },
   "id": "1d68c2a5489684c3"
  },
  {
   "cell_type": "code",
   "execution_count": 67,
   "outputs": [],
   "source": [
    "data = data[data.apply(lambda x: x['University'].strip() not in x['Town'], axis=1)]"
   ],
   "metadata": {
    "collapsed": false,
    "ExecuteTime": {
     "end_time": "2023-12-08T23:50:17.406525800Z",
     "start_time": "2023-12-08T23:50:17.387750300Z"
    }
   },
   "id": "fd031fca14fa1143"
  },
  {
   "cell_type": "code",
   "execution_count": 68,
   "outputs": [
    {
     "data": {
      "text/plain": "         State           Town                             University\n0      Alabama         Auburn                      Auburn University\n1      Alabama       Florence            University of North Alabama\n2      Alabama   Jacksonville          Jacksonville State University\n3      Alabama     Livingston             University of West Alabama\n4      Alabama     Montevallo               University of Montevallo\n..         ...            ...                                    ...\n736  Wisconsin    River Falls    University of Wisconsin–River Falls\n737  Wisconsin  Stevens Point  University of Wisconsin–Stevens Point\n738  Wisconsin       Waukesha                     Carroll University\n739  Wisconsin     Whitewater     University of Wisconsin–Whitewater\n740    Wyoming        Laramie                  University of Wyoming\n\n[724 rows x 3 columns]",
      "text/html": "<div>\n<style scoped>\n    .dataframe tbody tr th:only-of-type {\n        vertical-align: middle;\n    }\n\n    .dataframe tbody tr th {\n        vertical-align: top;\n    }\n\n    .dataframe thead th {\n        text-align: right;\n    }\n</style>\n<table border=\"1\" class=\"dataframe\">\n  <thead>\n    <tr style=\"text-align: right;\">\n      <th></th>\n      <th>State</th>\n      <th>Town</th>\n      <th>University</th>\n    </tr>\n  </thead>\n  <tbody>\n    <tr>\n      <th>0</th>\n      <td>Alabama</td>\n      <td>Auburn</td>\n      <td>Auburn University</td>\n    </tr>\n    <tr>\n      <th>1</th>\n      <td>Alabama</td>\n      <td>Florence</td>\n      <td>University of North Alabama</td>\n    </tr>\n    <tr>\n      <th>2</th>\n      <td>Alabama</td>\n      <td>Jacksonville</td>\n      <td>Jacksonville State University</td>\n    </tr>\n    <tr>\n      <th>3</th>\n      <td>Alabama</td>\n      <td>Livingston</td>\n      <td>University of West Alabama</td>\n    </tr>\n    <tr>\n      <th>4</th>\n      <td>Alabama</td>\n      <td>Montevallo</td>\n      <td>University of Montevallo</td>\n    </tr>\n    <tr>\n      <th>...</th>\n      <td>...</td>\n      <td>...</td>\n      <td>...</td>\n    </tr>\n    <tr>\n      <th>736</th>\n      <td>Wisconsin</td>\n      <td>River Falls</td>\n      <td>University of Wisconsin–River Falls</td>\n    </tr>\n    <tr>\n      <th>737</th>\n      <td>Wisconsin</td>\n      <td>Stevens Point</td>\n      <td>University of Wisconsin–Stevens Point</td>\n    </tr>\n    <tr>\n      <th>738</th>\n      <td>Wisconsin</td>\n      <td>Waukesha</td>\n      <td>Carroll University</td>\n    </tr>\n    <tr>\n      <th>739</th>\n      <td>Wisconsin</td>\n      <td>Whitewater</td>\n      <td>University of Wisconsin–Whitewater</td>\n    </tr>\n    <tr>\n      <th>740</th>\n      <td>Wyoming</td>\n      <td>Laramie</td>\n      <td>University of Wyoming</td>\n    </tr>\n  </tbody>\n</table>\n<p>724 rows × 3 columns</p>\n</div>"
     },
     "execution_count": 68,
     "metadata": {},
     "output_type": "execute_result"
    }
   ],
   "source": [
    "data"
   ],
   "metadata": {
    "collapsed": false,
    "ExecuteTime": {
     "end_time": "2023-12-08T23:50:23.399741300Z",
     "start_time": "2023-12-08T23:50:23.383564600Z"
    }
   },
   "id": "d228a1f2642e8703"
  },
  {
   "cell_type": "code",
   "execution_count": null,
   "outputs": [],
   "source": [],
   "metadata": {
    "collapsed": false
   },
   "id": "f30366239986e399"
  }
 ],
 "metadata": {
  "kernelspec": {
   "display_name": "Python 3",
   "language": "python",
   "name": "python3"
  },
  "language_info": {
   "codemirror_mode": {
    "name": "ipython",
    "version": 2
   },
   "file_extension": ".py",
   "mimetype": "text/x-python",
   "name": "python",
   "nbconvert_exporter": "python",
   "pygments_lexer": "ipython2",
   "version": "2.7.6"
  }
 },
 "nbformat": 4,
 "nbformat_minor": 5
}
