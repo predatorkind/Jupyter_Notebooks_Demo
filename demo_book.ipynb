{
 "cells": [
  {
   "cell_type": "markdown",
   "source": [
    "# Meteorite Landings Data\n",
    "This comprehensive data set from The Meteoritical Society contains information on all of the known meteorite landings."
   ],
   "metadata": {
    "collapsed": false
   },
   "id": "1c6802c0e75f8d90"
  },
  {
   "cell_type": "markdown",
   "source": [
    "First, we need to download the data. We are going to use the requests package."
   ],
   "metadata": {
    "collapsed": false
   },
   "id": "86bcff3a1e0e177c"
  },
  {
   "cell_type": "code",
   "execution_count": 20,
   "outputs": [],
   "source": [
    "import datetime\n",
    "\n",
    "import numpy as np\n",
    "\n",
    "url = 'https://data.nasa.gov/api/views/gh4g-9sfh/rows.csv?accessType=DOWNLOAD'"
   ],
   "metadata": {
    "collapsed": false,
    "ExecuteTime": {
     "start_time": "2023-11-28T19:41:42.766094900Z"
    }
   },
   "id": "5cc41cc18a45ab"
  },
  {
   "cell_type": "code",
   "execution_count": 19,
   "outputs": [],
   "source": [
    "import requests"
   ],
   "metadata": {
    "collapsed": false,
    "ExecuteTime": {
     "start_time": "2023-11-28T19:37:58.869367900Z"
    }
   },
   "id": "337e33d8ebf8074a"
  },
  {
   "cell_type": "code",
   "execution_count": 21,
   "outputs": [],
   "source": [
    "response = requests.get(url)"
   ],
   "metadata": {
    "collapsed": false,
    "ExecuteTime": {
     "end_time": "2023-11-28T19:43:33.284030700Z",
     "start_time": "2023-11-28T19:43:29.730653100Z"
    }
   },
   "id": "cc10bd40b89f902c"
  },
  {
   "cell_type": "code",
   "execution_count": 22,
   "outputs": [
    {
     "data": {
      "text/plain": "200"
     },
     "execution_count": 22,
     "metadata": {},
     "output_type": "execute_result"
    }
   ],
   "source": [
    "response.status_code"
   ],
   "metadata": {
    "collapsed": false,
    "ExecuteTime": {
     "end_time": "2023-11-28T19:43:45.442074Z",
     "start_time": "2023-11-28T19:43:45.430630900Z"
    }
   },
   "id": "771e3a3b550ba8f6"
  },
  {
   "cell_type": "markdown",
   "source": [
    "Now, we are going to save the data to a file."
   ],
   "metadata": {
    "collapsed": false
   },
   "id": "c0843750383fba5d"
  },
  {
   "cell_type": "code",
   "execution_count": 23,
   "outputs": [],
   "source": [
    "with open('meteorite_landings_data.csv', 'wb') as file:\n",
    "    file.write(response.content)"
   ],
   "metadata": {
    "collapsed": false,
    "ExecuteTime": {
     "end_time": "2023-11-28T19:47:25.875750400Z",
     "start_time": "2023-11-28T19:47:25.863446900Z"
    }
   },
   "id": "f4d1a62f13cc9aed"
  },
  {
   "cell_type": "markdown",
   "source": [
    "Next step is to use pandas to read in the data so that they are ready for analysis and manipulation."
   ],
   "metadata": {
    "collapsed": false
   },
   "id": "223443e678367ecf"
  },
  {
   "cell_type": "code",
   "execution_count": 25,
   "outputs": [],
   "source": [
    "import pandas as pd"
   ],
   "metadata": {
    "collapsed": false,
    "ExecuteTime": {
     "end_time": "2023-11-28T19:53:23.058965200Z",
     "start_time": "2023-11-28T19:53:23.054751100Z"
    }
   },
   "id": "7c326807e20108c4"
  },
  {
   "cell_type": "code",
   "execution_count": 26,
   "outputs": [],
   "source": [
    "data = pd.read_csv('meteorite_landings_data.csv')"
   ],
   "metadata": {
    "collapsed": false,
    "ExecuteTime": {
     "end_time": "2023-11-28T19:54:51.228705200Z",
     "start_time": "2023-11-28T19:54:51.177014500Z"
    }
   },
   "id": "691ca6eb4042a87"
  },
  {
   "cell_type": "markdown",
   "source": [
    "After the data is loaded into pandas, we can check some basic information about it, like number of rows and colums using the shape field."
   ],
   "metadata": {
    "collapsed": false
   },
   "id": "5011b1309a97076e"
  },
  {
   "cell_type": "code",
   "execution_count": 27,
   "outputs": [
    {
     "data": {
      "text/plain": "pandas.core.frame.DataFrame"
     },
     "execution_count": 27,
     "metadata": {},
     "output_type": "execute_result"
    }
   ],
   "source": [
    "type(data)"
   ],
   "metadata": {
    "collapsed": false,
    "ExecuteTime": {
     "end_time": "2023-11-28T19:55:12.998728700Z",
     "start_time": "2023-11-28T19:55:12.988316100Z"
    }
   },
   "id": "24d9139b03be7813"
  },
  {
   "cell_type": "code",
   "execution_count": 28,
   "outputs": [
    {
     "data": {
      "text/plain": "45716"
     },
     "execution_count": 28,
     "metadata": {},
     "output_type": "execute_result"
    }
   ],
   "source": [
    "len(data)"
   ],
   "metadata": {
    "collapsed": false,
    "ExecuteTime": {
     "end_time": "2023-11-28T19:55:31.297095600Z",
     "start_time": "2023-11-28T19:55:31.286536900Z"
    }
   },
   "id": "bf8e42b29a4242d5"
  },
  {
   "cell_type": "code",
   "execution_count": 29,
   "outputs": [
    {
     "data": {
      "text/plain": "(45716, 10)"
     },
     "execution_count": 29,
     "metadata": {},
     "output_type": "execute_result"
    }
   ],
   "source": [
    "data.shape"
   ],
   "metadata": {
    "collapsed": false,
    "ExecuteTime": {
     "end_time": "2023-11-28T19:55:57.034102100Z",
     "start_time": "2023-11-28T19:55:57.020683600Z"
    }
   },
   "id": "a0bb5450bc67ba32"
  },
  {
   "cell_type": "markdown",
   "source": [
    "Using the **head()** method gives us the first few rows of the dataset (5 by default). "
   ],
   "metadata": {
    "collapsed": false
   },
   "id": "8dba58b1b9021a89"
  },
  {
   "cell_type": "code",
   "execution_count": 30,
   "outputs": [
    {
     "data": {
      "text/plain": "       name   id nametype     recclass  mass (g)  fall    year    reclat  \\\n0    Aachen    1    Valid           L5      21.0  Fell  1880.0  50.77500   \n1    Aarhus    2    Valid           H6     720.0  Fell  1951.0  56.18333   \n2      Abee    6    Valid          EH4  107000.0  Fell  1952.0  54.21667   \n3  Acapulco   10    Valid  Acapulcoite    1914.0  Fell  1976.0  16.88333   \n4   Achiras  370    Valid           L6     780.0  Fell  1902.0 -33.16667   \n\n     reclong           GeoLocation  \n0    6.08333     (50.775, 6.08333)  \n1   10.23333  (56.18333, 10.23333)  \n2 -113.00000    (54.21667, -113.0)  \n3  -99.90000     (16.88333, -99.9)  \n4  -64.95000   (-33.16667, -64.95)  ",
      "text/html": "<div>\n<style scoped>\n    .dataframe tbody tr th:only-of-type {\n        vertical-align: middle;\n    }\n\n    .dataframe tbody tr th {\n        vertical-align: top;\n    }\n\n    .dataframe thead th {\n        text-align: right;\n    }\n</style>\n<table border=\"1\" class=\"dataframe\">\n  <thead>\n    <tr style=\"text-align: right;\">\n      <th></th>\n      <th>name</th>\n      <th>id</th>\n      <th>nametype</th>\n      <th>recclass</th>\n      <th>mass (g)</th>\n      <th>fall</th>\n      <th>year</th>\n      <th>reclat</th>\n      <th>reclong</th>\n      <th>GeoLocation</th>\n    </tr>\n  </thead>\n  <tbody>\n    <tr>\n      <th>0</th>\n      <td>Aachen</td>\n      <td>1</td>\n      <td>Valid</td>\n      <td>L5</td>\n      <td>21.0</td>\n      <td>Fell</td>\n      <td>1880.0</td>\n      <td>50.77500</td>\n      <td>6.08333</td>\n      <td>(50.775, 6.08333)</td>\n    </tr>\n    <tr>\n      <th>1</th>\n      <td>Aarhus</td>\n      <td>2</td>\n      <td>Valid</td>\n      <td>H6</td>\n      <td>720.0</td>\n      <td>Fell</td>\n      <td>1951.0</td>\n      <td>56.18333</td>\n      <td>10.23333</td>\n      <td>(56.18333, 10.23333)</td>\n    </tr>\n    <tr>\n      <th>2</th>\n      <td>Abee</td>\n      <td>6</td>\n      <td>Valid</td>\n      <td>EH4</td>\n      <td>107000.0</td>\n      <td>Fell</td>\n      <td>1952.0</td>\n      <td>54.21667</td>\n      <td>-113.00000</td>\n      <td>(54.21667, -113.0)</td>\n    </tr>\n    <tr>\n      <th>3</th>\n      <td>Acapulco</td>\n      <td>10</td>\n      <td>Valid</td>\n      <td>Acapulcoite</td>\n      <td>1914.0</td>\n      <td>Fell</td>\n      <td>1976.0</td>\n      <td>16.88333</td>\n      <td>-99.90000</td>\n      <td>(16.88333, -99.9)</td>\n    </tr>\n    <tr>\n      <th>4</th>\n      <td>Achiras</td>\n      <td>370</td>\n      <td>Valid</td>\n      <td>L6</td>\n      <td>780.0</td>\n      <td>Fell</td>\n      <td>1902.0</td>\n      <td>-33.16667</td>\n      <td>-64.95000</td>\n      <td>(-33.16667, -64.95)</td>\n    </tr>\n  </tbody>\n</table>\n</div>"
     },
     "execution_count": 30,
     "metadata": {},
     "output_type": "execute_result"
    }
   ],
   "source": [
    "data.head()"
   ],
   "metadata": {
    "collapsed": false,
    "ExecuteTime": {
     "end_time": "2023-11-28T19:56:30.057414700Z",
     "start_time": "2023-11-28T19:56:30.045497400Z"
    }
   },
   "id": "1df23b0616fb3c8e"
  },
  {
   "cell_type": "markdown",
   "source": [
    "The **tail()** method gives us the last few rows. Below we are asking for the last 10 rows."
   ],
   "metadata": {
    "collapsed": false
   },
   "id": "9585aceaf6896adf"
  },
  {
   "cell_type": "code",
   "execution_count": 31,
   "outputs": [
    {
     "data": {
      "text/plain": "             name     id nametype              recclass   mass (g)   fall  \\\n45706     Zerkaly  31354    Valid                    H5    16000.0  Found   \n45707    Zhaoping  54609    Valid     Iron, IAB complex  2000000.0  Found   \n45708    Zhigansk  30405    Valid           Iron, IIIAB   900000.0  Found   \n45709  Zhongxiang  30406    Valid                  Iron   100000.0  Found   \n45710  Zillah 001  31355    Valid                    L6     1475.0  Found   \n45711  Zillah 002  31356    Valid               Eucrite      172.0  Found   \n45712      Zinder  30409    Valid  Pallasite, ungrouped       46.0  Found   \n45713        Zlin  30410    Valid                    H4        3.3  Found   \n45714   Zubkovsky  31357    Valid                    L6     2167.0  Found   \n45715  Zulu Queen  30414    Valid                  L3.7      200.0  Found   \n\n         year    reclat    reclong             GeoLocation  \n45706  1956.0  52.13333   81.96667    (52.13333, 81.96667)  \n45707  1983.0  24.23333  111.18333   (24.23333, 111.18333)  \n45708  1966.0  68.00000  128.30000           (68.0, 128.3)  \n45709  1981.0  31.20000  112.50000           (31.2, 112.5)  \n45710  1990.0  29.03700   17.01850       (29.037, 17.0185)  \n45711  1990.0  29.03700   17.01850       (29.037, 17.0185)  \n45712  1999.0  13.78333    8.96667     (13.78333, 8.96667)  \n45713  1939.0  49.25000   17.66667       (49.25, 17.66667)  \n45714  2003.0  49.78917   41.50460     (49.78917, 41.5046)  \n45715  1976.0  33.98333 -115.68333  (33.98333, -115.68333)  ",
      "text/html": "<div>\n<style scoped>\n    .dataframe tbody tr th:only-of-type {\n        vertical-align: middle;\n    }\n\n    .dataframe tbody tr th {\n        vertical-align: top;\n    }\n\n    .dataframe thead th {\n        text-align: right;\n    }\n</style>\n<table border=\"1\" class=\"dataframe\">\n  <thead>\n    <tr style=\"text-align: right;\">\n      <th></th>\n      <th>name</th>\n      <th>id</th>\n      <th>nametype</th>\n      <th>recclass</th>\n      <th>mass (g)</th>\n      <th>fall</th>\n      <th>year</th>\n      <th>reclat</th>\n      <th>reclong</th>\n      <th>GeoLocation</th>\n    </tr>\n  </thead>\n  <tbody>\n    <tr>\n      <th>45706</th>\n      <td>Zerkaly</td>\n      <td>31354</td>\n      <td>Valid</td>\n      <td>H5</td>\n      <td>16000.0</td>\n      <td>Found</td>\n      <td>1956.0</td>\n      <td>52.13333</td>\n      <td>81.96667</td>\n      <td>(52.13333, 81.96667)</td>\n    </tr>\n    <tr>\n      <th>45707</th>\n      <td>Zhaoping</td>\n      <td>54609</td>\n      <td>Valid</td>\n      <td>Iron, IAB complex</td>\n      <td>2000000.0</td>\n      <td>Found</td>\n      <td>1983.0</td>\n      <td>24.23333</td>\n      <td>111.18333</td>\n      <td>(24.23333, 111.18333)</td>\n    </tr>\n    <tr>\n      <th>45708</th>\n      <td>Zhigansk</td>\n      <td>30405</td>\n      <td>Valid</td>\n      <td>Iron, IIIAB</td>\n      <td>900000.0</td>\n      <td>Found</td>\n      <td>1966.0</td>\n      <td>68.00000</td>\n      <td>128.30000</td>\n      <td>(68.0, 128.3)</td>\n    </tr>\n    <tr>\n      <th>45709</th>\n      <td>Zhongxiang</td>\n      <td>30406</td>\n      <td>Valid</td>\n      <td>Iron</td>\n      <td>100000.0</td>\n      <td>Found</td>\n      <td>1981.0</td>\n      <td>31.20000</td>\n      <td>112.50000</td>\n      <td>(31.2, 112.5)</td>\n    </tr>\n    <tr>\n      <th>45710</th>\n      <td>Zillah 001</td>\n      <td>31355</td>\n      <td>Valid</td>\n      <td>L6</td>\n      <td>1475.0</td>\n      <td>Found</td>\n      <td>1990.0</td>\n      <td>29.03700</td>\n      <td>17.01850</td>\n      <td>(29.037, 17.0185)</td>\n    </tr>\n    <tr>\n      <th>45711</th>\n      <td>Zillah 002</td>\n      <td>31356</td>\n      <td>Valid</td>\n      <td>Eucrite</td>\n      <td>172.0</td>\n      <td>Found</td>\n      <td>1990.0</td>\n      <td>29.03700</td>\n      <td>17.01850</td>\n      <td>(29.037, 17.0185)</td>\n    </tr>\n    <tr>\n      <th>45712</th>\n      <td>Zinder</td>\n      <td>30409</td>\n      <td>Valid</td>\n      <td>Pallasite, ungrouped</td>\n      <td>46.0</td>\n      <td>Found</td>\n      <td>1999.0</td>\n      <td>13.78333</td>\n      <td>8.96667</td>\n      <td>(13.78333, 8.96667)</td>\n    </tr>\n    <tr>\n      <th>45713</th>\n      <td>Zlin</td>\n      <td>30410</td>\n      <td>Valid</td>\n      <td>H4</td>\n      <td>3.3</td>\n      <td>Found</td>\n      <td>1939.0</td>\n      <td>49.25000</td>\n      <td>17.66667</td>\n      <td>(49.25, 17.66667)</td>\n    </tr>\n    <tr>\n      <th>45714</th>\n      <td>Zubkovsky</td>\n      <td>31357</td>\n      <td>Valid</td>\n      <td>L6</td>\n      <td>2167.0</td>\n      <td>Found</td>\n      <td>2003.0</td>\n      <td>49.78917</td>\n      <td>41.50460</td>\n      <td>(49.78917, 41.5046)</td>\n    </tr>\n    <tr>\n      <th>45715</th>\n      <td>Zulu Queen</td>\n      <td>30414</td>\n      <td>Valid</td>\n      <td>L3.7</td>\n      <td>200.0</td>\n      <td>Found</td>\n      <td>1976.0</td>\n      <td>33.98333</td>\n      <td>-115.68333</td>\n      <td>(33.98333, -115.68333)</td>\n    </tr>\n  </tbody>\n</table>\n</div>"
     },
     "execution_count": 31,
     "metadata": {},
     "output_type": "execute_result"
    }
   ],
   "source": [
    "data.tail(10)"
   ],
   "metadata": {
    "collapsed": false,
    "ExecuteTime": {
     "end_time": "2023-11-28T20:21:40.578191200Z",
     "start_time": "2023-11-28T20:21:40.566381900Z"
    }
   },
   "id": "5e955758f84977d7"
  },
  {
   "cell_type": "markdown",
   "source": [
    "We can obtain some useful statistics about our data by using the **info()** method."
   ],
   "metadata": {
    "collapsed": false
   },
   "id": "6ca151604381bcbe"
  },
  {
   "cell_type": "code",
   "execution_count": 32,
   "outputs": [
    {
     "name": "stdout",
     "output_type": "stream",
     "text": [
      "<class 'pandas.core.frame.DataFrame'>\n",
      "RangeIndex: 45716 entries, 0 to 45715\n",
      "Data columns (total 10 columns):\n",
      " #   Column       Non-Null Count  Dtype  \n",
      "---  ------       --------------  -----  \n",
      " 0   name         45716 non-null  object \n",
      " 1   id           45716 non-null  int64  \n",
      " 2   nametype     45716 non-null  object \n",
      " 3   recclass     45716 non-null  object \n",
      " 4   mass (g)     45585 non-null  float64\n",
      " 5   fall         45716 non-null  object \n",
      " 6   year         45425 non-null  float64\n",
      " 7   reclat       38401 non-null  float64\n",
      " 8   reclong      38401 non-null  float64\n",
      " 9   GeoLocation  38401 non-null  object \n",
      "dtypes: float64(4), int64(1), object(5)\n",
      "memory usage: 3.5+ MB\n"
     ]
    }
   ],
   "source": [
    "data.info()"
   ],
   "metadata": {
    "collapsed": false,
    "ExecuteTime": {
     "end_time": "2023-11-28T20:23:53.002165500Z",
     "start_time": "2023-11-28T20:23:52.976296600Z"
    }
   },
   "id": "dbd3d7fa6e2d0f3a"
  },
  {
   "cell_type": "markdown",
   "source": [
    "Using **describe()** on our dataset, gives us some statistical data. Only the numerical columns are included in the summary."
   ],
   "metadata": {
    "collapsed": false
   },
   "id": "2d534763d4f9a131"
  },
  {
   "cell_type": "code",
   "execution_count": 33,
   "outputs": [
    {
     "data": {
      "text/plain": "                 id      mass (g)          year        reclat       reclong\ncount  45716.000000  4.558500e+04  45425.000000  38401.000000  38401.000000\nmean   26889.735104  1.327808e+04   1991.828817    -39.122580     61.074319\nstd    16860.683030  5.749889e+05     25.052766     46.378511     80.647298\nmin        1.000000  0.000000e+00    860.000000    -87.366670   -165.433330\n25%    12688.750000  7.200000e+00   1987.000000    -76.714240      0.000000\n50%    24261.500000  3.260000e+01   1998.000000    -71.500000     35.666670\n75%    40656.750000  2.026000e+02   2003.000000      0.000000    157.166670\nmax    57458.000000  6.000000e+07   2101.000000     81.166670    354.473330",
      "text/html": "<div>\n<style scoped>\n    .dataframe tbody tr th:only-of-type {\n        vertical-align: middle;\n    }\n\n    .dataframe tbody tr th {\n        vertical-align: top;\n    }\n\n    .dataframe thead th {\n        text-align: right;\n    }\n</style>\n<table border=\"1\" class=\"dataframe\">\n  <thead>\n    <tr style=\"text-align: right;\">\n      <th></th>\n      <th>id</th>\n      <th>mass (g)</th>\n      <th>year</th>\n      <th>reclat</th>\n      <th>reclong</th>\n    </tr>\n  </thead>\n  <tbody>\n    <tr>\n      <th>count</th>\n      <td>45716.000000</td>\n      <td>4.558500e+04</td>\n      <td>45425.000000</td>\n      <td>38401.000000</td>\n      <td>38401.000000</td>\n    </tr>\n    <tr>\n      <th>mean</th>\n      <td>26889.735104</td>\n      <td>1.327808e+04</td>\n      <td>1991.828817</td>\n      <td>-39.122580</td>\n      <td>61.074319</td>\n    </tr>\n    <tr>\n      <th>std</th>\n      <td>16860.683030</td>\n      <td>5.749889e+05</td>\n      <td>25.052766</td>\n      <td>46.378511</td>\n      <td>80.647298</td>\n    </tr>\n    <tr>\n      <th>min</th>\n      <td>1.000000</td>\n      <td>0.000000e+00</td>\n      <td>860.000000</td>\n      <td>-87.366670</td>\n      <td>-165.433330</td>\n    </tr>\n    <tr>\n      <th>25%</th>\n      <td>12688.750000</td>\n      <td>7.200000e+00</td>\n      <td>1987.000000</td>\n      <td>-76.714240</td>\n      <td>0.000000</td>\n    </tr>\n    <tr>\n      <th>50%</th>\n      <td>24261.500000</td>\n      <td>3.260000e+01</td>\n      <td>1998.000000</td>\n      <td>-71.500000</td>\n      <td>35.666670</td>\n    </tr>\n    <tr>\n      <th>75%</th>\n      <td>40656.750000</td>\n      <td>2.026000e+02</td>\n      <td>2003.000000</td>\n      <td>0.000000</td>\n      <td>157.166670</td>\n    </tr>\n    <tr>\n      <th>max</th>\n      <td>57458.000000</td>\n      <td>6.000000e+07</td>\n      <td>2101.000000</td>\n      <td>81.166670</td>\n      <td>354.473330</td>\n    </tr>\n  </tbody>\n</table>\n</div>"
     },
     "execution_count": 33,
     "metadata": {},
     "output_type": "execute_result"
    }
   ],
   "source": [
    "data.describe()"
   ],
   "metadata": {
    "collapsed": false,
    "ExecuteTime": {
     "end_time": "2023-11-28T20:28:54.936393400Z",
     "start_time": "2023-11-28T20:28:54.908071900Z"
    }
   },
   "id": "adc82446104fb38a"
  },
  {
   "cell_type": "markdown",
   "source": [
    "We can easily explore our data by selecting a specific column (Series) and calling various methods on them. **value_counts()**, for instance, calculates the frequency of unique elements."
   ],
   "metadata": {
    "collapsed": false
   },
   "id": "74b44ddd9116ac9b"
  },
  {
   "cell_type": "code",
   "execution_count": 34,
   "outputs": [
    {
     "data": {
      "text/plain": "nametype\nValid     45641\nRelict       75\nName: count, dtype: int64"
     },
     "execution_count": 34,
     "metadata": {},
     "output_type": "execute_result"
    }
   ],
   "source": [
    "data['nametype'].value_counts()"
   ],
   "metadata": {
    "collapsed": false,
    "ExecuteTime": {
     "end_time": "2023-11-28T20:33:24.773681600Z",
     "start_time": "2023-11-28T20:33:24.762326600Z"
    }
   },
   "id": "ce80fdd452bbc407"
  },
  {
   "cell_type": "markdown",
   "source": [
    "Dot notation can also be used to access series of a data frame."
   ],
   "metadata": {
    "collapsed": false
   },
   "id": "e62ed50a90e57350"
  },
  {
   "cell_type": "code",
   "execution_count": 35,
   "outputs": [
    {
     "data": {
      "text/plain": "recclass\nL6         8285\nH5         7142\nL5         4796\nH6         4528\nH4         4211\n           ... \nEL7           1\nCH/CBb        1\nH/L~4         1\nLL3.7-6       1\nL/LL          1\nName: count, Length: 466, dtype: int64"
     },
     "execution_count": 35,
     "metadata": {},
     "output_type": "execute_result"
    }
   ],
   "source": [
    "data.recclass.value_counts()"
   ],
   "metadata": {
    "collapsed": false,
    "ExecuteTime": {
     "end_time": "2023-11-28T20:34:38.332823400Z",
     "start_time": "2023-11-28T20:34:38.311245500Z"
    }
   },
   "id": "a0f01f1fee8cad4f"
  },
  {
   "cell_type": "markdown",
   "source": [
    "Let's now create a simple query. Our output here is a Series consisting of indexes and boolean values. The rows of our data frame that match the specified criteria have been assigned a True value."
   ],
   "metadata": {
    "collapsed": false
   },
   "id": "96f0f06616f0001c"
  },
  {
   "cell_type": "code",
   "execution_count": 36,
   "outputs": [
    {
     "data": {
      "text/plain": "0        False\n1        False\n2        False\n3        False\n4         True\n         ...  \n45711    False\n45712    False\n45713    False\n45714     True\n45715    False\nName: recclass, Length: 45716, dtype: bool"
     },
     "execution_count": 36,
     "metadata": {},
     "output_type": "execute_result"
    }
   ],
   "source": [
    "data['recclass'] == 'L6'"
   ],
   "metadata": {
    "collapsed": false,
    "ExecuteTime": {
     "end_time": "2023-11-29T12:55:26.231834200Z",
     "start_time": "2023-11-29T12:55:26.210315900Z"
    }
   },
   "id": "67a4dc91e4264e7f"
  },
  {
   "cell_type": "markdown",
   "source": [
    "We can use the above to filter our data."
   ],
   "metadata": {
    "collapsed": false
   },
   "id": "2bbbd08818e7aae0"
  },
  {
   "cell_type": "code",
   "execution_count": 37,
   "outputs": [
    {
     "data": {
      "text/plain": "               name     id nametype recclass  mass (g)   fall    year  \\\n4           Achiras    370    Valid       L6     780.0   Fell  1902.0   \n8            Aguada    398    Valid       L6    1620.0   Fell  1930.0   \n11              Aïr    424    Valid       L6   24000.0   Fell  1925.0   \n13            Akaba    426    Valid       L6     779.0   Fell  1949.0   \n24           Aleppo    462    Valid       L6    3200.0   Fell  1873.0   \n...             ...    ...      ...      ...       ...    ...     ...   \n45671      Yayjinna  30359    Valid       L6     262.5  Found  1965.0   \n45673   Yelland 001  54765    Valid       L6       4.5  Found  2011.0   \n45681  York (stone)  30368    Valid       L6    1440.0  Found  1928.0   \n45710    Zillah 001  31355    Valid       L6    1475.0  Found  1990.0   \n45714     Zubkovsky  31357    Valid       L6    2167.0  Found  2003.0   \n\n         reclat    reclong             GeoLocation  \n4     -33.16667  -64.95000     (-33.16667, -64.95)  \n8     -31.60000  -65.23333      (-31.6, -65.23333)  \n11     19.08333    8.38333     (19.08333, 8.38333)  \n13     29.51667   35.05000       (29.51667, 35.05)  \n24     36.23333   37.13333    (36.23333, 37.13333)  \n...         ...        ...                     ...  \n45671 -32.03333  126.17500    (-32.03333, 126.175)  \n45673  39.55801 -114.42715  (39.55801, -114.42715)  \n45681  40.86667  -97.60000       (40.86667, -97.6)  \n45710  29.03700   17.01850       (29.037, 17.0185)  \n45714  49.78917   41.50460     (49.78917, 41.5046)  \n\n[8285 rows x 10 columns]",
      "text/html": "<div>\n<style scoped>\n    .dataframe tbody tr th:only-of-type {\n        vertical-align: middle;\n    }\n\n    .dataframe tbody tr th {\n        vertical-align: top;\n    }\n\n    .dataframe thead th {\n        text-align: right;\n    }\n</style>\n<table border=\"1\" class=\"dataframe\">\n  <thead>\n    <tr style=\"text-align: right;\">\n      <th></th>\n      <th>name</th>\n      <th>id</th>\n      <th>nametype</th>\n      <th>recclass</th>\n      <th>mass (g)</th>\n      <th>fall</th>\n      <th>year</th>\n      <th>reclat</th>\n      <th>reclong</th>\n      <th>GeoLocation</th>\n    </tr>\n  </thead>\n  <tbody>\n    <tr>\n      <th>4</th>\n      <td>Achiras</td>\n      <td>370</td>\n      <td>Valid</td>\n      <td>L6</td>\n      <td>780.0</td>\n      <td>Fell</td>\n      <td>1902.0</td>\n      <td>-33.16667</td>\n      <td>-64.95000</td>\n      <td>(-33.16667, -64.95)</td>\n    </tr>\n    <tr>\n      <th>8</th>\n      <td>Aguada</td>\n      <td>398</td>\n      <td>Valid</td>\n      <td>L6</td>\n      <td>1620.0</td>\n      <td>Fell</td>\n      <td>1930.0</td>\n      <td>-31.60000</td>\n      <td>-65.23333</td>\n      <td>(-31.6, -65.23333)</td>\n    </tr>\n    <tr>\n      <th>11</th>\n      <td>Aïr</td>\n      <td>424</td>\n      <td>Valid</td>\n      <td>L6</td>\n      <td>24000.0</td>\n      <td>Fell</td>\n      <td>1925.0</td>\n      <td>19.08333</td>\n      <td>8.38333</td>\n      <td>(19.08333, 8.38333)</td>\n    </tr>\n    <tr>\n      <th>13</th>\n      <td>Akaba</td>\n      <td>426</td>\n      <td>Valid</td>\n      <td>L6</td>\n      <td>779.0</td>\n      <td>Fell</td>\n      <td>1949.0</td>\n      <td>29.51667</td>\n      <td>35.05000</td>\n      <td>(29.51667, 35.05)</td>\n    </tr>\n    <tr>\n      <th>24</th>\n      <td>Aleppo</td>\n      <td>462</td>\n      <td>Valid</td>\n      <td>L6</td>\n      <td>3200.0</td>\n      <td>Fell</td>\n      <td>1873.0</td>\n      <td>36.23333</td>\n      <td>37.13333</td>\n      <td>(36.23333, 37.13333)</td>\n    </tr>\n    <tr>\n      <th>...</th>\n      <td>...</td>\n      <td>...</td>\n      <td>...</td>\n      <td>...</td>\n      <td>...</td>\n      <td>...</td>\n      <td>...</td>\n      <td>...</td>\n      <td>...</td>\n      <td>...</td>\n    </tr>\n    <tr>\n      <th>45671</th>\n      <td>Yayjinna</td>\n      <td>30359</td>\n      <td>Valid</td>\n      <td>L6</td>\n      <td>262.5</td>\n      <td>Found</td>\n      <td>1965.0</td>\n      <td>-32.03333</td>\n      <td>126.17500</td>\n      <td>(-32.03333, 126.175)</td>\n    </tr>\n    <tr>\n      <th>45673</th>\n      <td>Yelland 001</td>\n      <td>54765</td>\n      <td>Valid</td>\n      <td>L6</td>\n      <td>4.5</td>\n      <td>Found</td>\n      <td>2011.0</td>\n      <td>39.55801</td>\n      <td>-114.42715</td>\n      <td>(39.55801, -114.42715)</td>\n    </tr>\n    <tr>\n      <th>45681</th>\n      <td>York (stone)</td>\n      <td>30368</td>\n      <td>Valid</td>\n      <td>L6</td>\n      <td>1440.0</td>\n      <td>Found</td>\n      <td>1928.0</td>\n      <td>40.86667</td>\n      <td>-97.60000</td>\n      <td>(40.86667, -97.6)</td>\n    </tr>\n    <tr>\n      <th>45710</th>\n      <td>Zillah 001</td>\n      <td>31355</td>\n      <td>Valid</td>\n      <td>L6</td>\n      <td>1475.0</td>\n      <td>Found</td>\n      <td>1990.0</td>\n      <td>29.03700</td>\n      <td>17.01850</td>\n      <td>(29.037, 17.0185)</td>\n    </tr>\n    <tr>\n      <th>45714</th>\n      <td>Zubkovsky</td>\n      <td>31357</td>\n      <td>Valid</td>\n      <td>L6</td>\n      <td>2167.0</td>\n      <td>Found</td>\n      <td>2003.0</td>\n      <td>49.78917</td>\n      <td>41.50460</td>\n      <td>(49.78917, 41.5046)</td>\n    </tr>\n  </tbody>\n</table>\n<p>8285 rows × 10 columns</p>\n</div>"
     },
     "execution_count": 37,
     "metadata": {},
     "output_type": "execute_result"
    }
   ],
   "source": [
    "data.loc[data['recclass'] == 'L6']"
   ],
   "metadata": {
    "collapsed": false,
    "ExecuteTime": {
     "end_time": "2023-11-29T13:03:17.138354300Z",
     "start_time": "2023-11-29T13:03:17.112629900Z"
    }
   },
   "id": "7dc3f69308f07f67"
  },
  {
   "cell_type": "markdown",
   "source": [
    "If we do not want to see all the columns we can limit the output in a following way."
   ],
   "metadata": {
    "collapsed": false
   },
   "id": "e5a995a65eb409d6"
  },
  {
   "cell_type": "code",
   "execution_count": 43,
   "outputs": [
    {
     "data": {
      "text/plain": "4         Fell\n8         Fell\n11        Fell\n13        Fell\n24        Fell\n         ...  \n45671    Found\n45673    Found\n45681    Found\n45710    Found\n45714    Found\nName: fall, Length: 8285, dtype: object"
     },
     "execution_count": 43,
     "metadata": {},
     "output_type": "execute_result"
    }
   ],
   "source": [
    "data.loc[data['recclass']=='L6', 'fall']"
   ],
   "metadata": {
    "collapsed": false,
    "ExecuteTime": {
     "end_time": "2023-11-29T13:18:13.125279200Z",
     "start_time": "2023-11-29T13:18:13.113502800Z"
    }
   },
   "id": "d9feef02d7fec4b6"
  },
  {
   "cell_type": "markdown",
   "source": [
    "By counting the distinct values of the previous query we can find out how many meteorites of class L6 were found."
   ],
   "metadata": {
    "collapsed": false
   },
   "id": "a23339c6b3961aa3"
  },
  {
   "cell_type": "code",
   "execution_count": 44,
   "outputs": [
    {
     "data": {
      "text/plain": "fall\nFound    8023\nFell      262\nName: count, dtype: int64"
     },
     "execution_count": 44,
     "metadata": {},
     "output_type": "execute_result"
    }
   ],
   "source": [
    "data.loc[data['recclass'] == 'L6', 'fall'].value_counts()"
   ],
   "metadata": {
    "collapsed": false,
    "ExecuteTime": {
     "end_time": "2023-11-29T13:22:46.247247600Z",
     "start_time": "2023-11-29T13:22:46.232496500Z"
    }
   },
   "id": "be04d905b528a5fa"
  },
  {
   "cell_type": "markdown",
   "source": [
    "You may have noticed that our data frame contains a column named **year**. It is, however, identified as a **float64** data type by pandas. Let's fix it by converting the float to a datetime type and storing it in an additional column."
   ],
   "metadata": {
    "collapsed": false
   },
   "id": "91e9893d5822b794"
  },
  {
   "cell_type": "code",
   "execution_count": 123,
   "outputs": [],
   "source": [
    "import numpy as np\n",
    "import datetime"
   ],
   "metadata": {
    "collapsed": false,
    "ExecuteTime": {
     "end_time": "2023-11-29T16:53:01.208771100Z",
     "start_time": "2023-11-29T16:53:01.199150900Z"
    }
   },
   "id": "102c4e1bdbde71e3"
  },
  {
   "cell_type": "code",
   "execution_count": 137,
   "outputs": [],
   "source": [
    "data['year_fell'] = data['year'].apply(lambda row: pd.NaT if pd.isna(row) else pd.to_datetime(str(int(row)), format=\"%Y\", errors = 'coerce'))\n"
   ],
   "metadata": {
    "collapsed": false,
    "ExecuteTime": {
     "end_time": "2023-11-29T23:32:47.549630Z",
     "start_time": "2023-11-29T23:32:46.286742100Z"
    }
   },
   "id": "5120905282ac953a"
  },
  {
   "cell_type": "markdown",
   "source": [
    "The above piece of code is a lillte complicated because not all rows contain value for year: some are null. We are using a lambda function to convert only the existing values to a dateime object."
   ],
   "metadata": {
    "collapsed": false
   },
   "id": "95fd13f2cd93da59"
  },
  {
   "cell_type": "code",
   "execution_count": 140,
   "outputs": [
    {
     "data": {
      "text/plain": "year_fell\n2003-01-01    3323\n1979-01-01    3046\n1998-01-01    2697\n2006-01-01    2456\n1988-01-01    2296\n              ... \n1741-01-01       1\n1766-01-01       1\n1806-01-01       1\n1779-01-01       1\n1792-01-01       1\nName: count, Length: 245, dtype: int64"
     },
     "execution_count": 140,
     "metadata": {},
     "output_type": "execute_result"
    }
   ],
   "source": [
    "data['year_fell'].value_counts(dropna=False)\n",
    "\n",
    "\n",
    "\n"
   ],
   "metadata": {
    "collapsed": false,
    "ExecuteTime": {
     "end_time": "2023-11-29T23:34:47.346435500Z",
     "start_time": "2023-11-29T23:34:47.336574800Z"
    }
   },
   "id": "3d371f7294c9a959"
  },
  {
   "cell_type": "code",
   "execution_count": 52,
   "outputs": [
    {
     "data": {
      "text/plain": "(45716, 11)"
     },
     "execution_count": 52,
     "metadata": {},
     "output_type": "execute_result"
    }
   ],
   "source": [
    "data.shape"
   ],
   "metadata": {
    "collapsed": false,
    "ExecuteTime": {
     "end_time": "2023-11-29T13:41:10.476748700Z",
     "start_time": "2023-11-29T13:41:10.465454800Z"
    }
   },
   "id": "eedcf9815ba81be1"
  },
  {
   "cell_type": "markdown",
   "source": [
    "In our case there is very little to gain by this conversion but very often dates are detected as strings and then comparing them would cause unexpected results."
   ],
   "metadata": {
    "collapsed": false
   },
   "id": "f469c5574b1423a0"
  },
  {
   "cell_type": "markdown",
   "source": [
    "We can see above that in the year 2003, 3323 meteorites were recorded to have falled on Earth. Let's see how many of them belonged to class L6."
   ],
   "metadata": {
    "collapsed": false
   },
   "id": "34befec152ed8872"
  },
  {
   "cell_type": "code",
   "execution_count": 155,
   "outputs": [
    {
     "data": {
      "text/plain": "recclass  year_fell \nL6        2003-01-01    581\nName: count, dtype: int64"
     },
     "execution_count": 155,
     "metadata": {},
     "output_type": "execute_result"
    }
   ],
   "source": [
    "data.loc[(data['recclass'] == 'L6') & (data['year_fell'] == '2003-01-01'), ('recclass', 'year_fell')].value_counts()"
   ],
   "metadata": {
    "collapsed": false,
    "ExecuteTime": {
     "end_time": "2023-11-30T00:47:50.813240300Z",
     "start_time": "2023-11-30T00:47:50.804391300Z"
    }
   },
   "id": "68d1539d40f8d8f1"
  },
  {
   "cell_type": "markdown",
   "source": [
    "If we look closer at the **recclass** column we will see that there are mixed classes as well. Let's widen our previous query."
   ],
   "metadata": {
    "collapsed": false
   },
   "id": "89908f3f411523b"
  },
  {
   "cell_type": "code",
   "execution_count": 158,
   "outputs": [
    {
     "data": {
      "text/plain": "recclass  year_fell \nL6        2003-01-01    581\nLL6       2003-01-01    133\nL6        2003-01-01      7\nL/LL6     2003-01-01      4\nEL6       2003-01-01      2\nEL6       2003-01-01      1\nLL6/7     2003-01-01      1\nName: count, dtype: int64"
     },
     "execution_count": 158,
     "metadata": {},
     "output_type": "execute_result"
    }
   ],
   "source": [
    "data.loc[(data['recclass'].str.contains('L6')) & (data['year_fell'] == '2003-01-01'), ('recclass', 'year_fell')].value_counts()"
   ],
   "metadata": {
    "collapsed": false,
    "ExecuteTime": {
     "end_time": "2023-11-30T01:52:57.613636400Z",
     "start_time": "2023-11-30T01:52:57.597928400Z"
    }
   },
   "id": "2c4e20dc1665476b"
  },
  {
   "cell_type": "markdown",
   "source": [
    "But there is still something wrong here. Class **L6** appears twice in our result. Let's investigate."
   ],
   "metadata": {
    "collapsed": false
   },
   "id": "1cdba5efeb895773"
  },
  {
   "cell_type": "code",
   "execution_count": 171,
   "outputs": [],
   "source": [
    "data['class_len'] = data['recclass'].apply(lambda x: len(x))"
   ],
   "metadata": {
    "collapsed": false,
    "ExecuteTime": {
     "end_time": "2023-11-30T02:11:50.557482900Z",
     "start_time": "2023-11-30T02:11:50.530141900Z"
    }
   },
   "id": "7512851f2f7ec755"
  },
  {
   "cell_type": "code",
   "execution_count": 160,
   "outputs": [
    {
     "data": {
      "text/plain": "recclass  year_fell   class_len\nL6        2003-01-01  2            581\nLL6       2003-01-01  3            133\nL6        2003-01-01  3              7\nL/LL6     2003-01-01  5              4\nEL6       2003-01-01  3              2\nEL6       2003-01-01  4              1\nLL6/7     2003-01-01  5              1\nName: count, dtype: int64"
     },
     "execution_count": 160,
     "metadata": {},
     "output_type": "execute_result"
    }
   ],
   "source": [
    "data.loc[(data['recclass'].str.contains('L6')) & (data['year_fell'] == '2003-01-01'), ('recclass', 'year_fell', 'class_len')].value_counts()"
   ],
   "metadata": {
    "collapsed": false,
    "ExecuteTime": {
     "end_time": "2023-11-30T01:59:12.520463900Z",
     "start_time": "2023-11-30T01:59:12.477273500Z"
    }
   },
   "id": "5497456d01a77976"
  },
  {
   "cell_type": "markdown",
   "source": [
    "It seems that the second instance of L6 class contains an extra space. Let's get rid of it and recalculate the lengths."
   ],
   "metadata": {
    "collapsed": false
   },
   "id": "198097d180562011"
  },
  {
   "cell_type": "code",
   "execution_count": 169,
   "outputs": [],
   "source": [
    "data['recclass'].replace(to_replace='L6 ', value='L6', inplace=True)\n",
    "data['class_len'] = data['recclass'].apply(lambda x: len(x))"
   ],
   "metadata": {
    "collapsed": false,
    "ExecuteTime": {
     "end_time": "2023-11-30T02:11:40.400069600Z",
     "start_time": "2023-11-30T02:11:40.379810400Z"
    }
   },
   "id": "1c4120f40f2a6f5d"
  },
  {
   "cell_type": "code",
   "execution_count": 172,
   "outputs": [
    {
     "data": {
      "text/plain": "recclass  year_fell   class_len\nL6        2003-01-01  2            588\nLL6       2003-01-01  3            133\nL/LL6     2003-01-01  5              4\nEL6       2003-01-01  3              2\nEL6       2003-01-01  4              1\nLL6/7     2003-01-01  5              1\nName: count, dtype: int64"
     },
     "execution_count": 172,
     "metadata": {},
     "output_type": "execute_result"
    }
   ],
   "source": [
    "data.loc[(data['recclass'].str.contains('L6')) & (data['year_fell'] == '2003-01-01'), ('recclass', 'year_fell', 'class_len')].value_counts()"
   ],
   "metadata": {
    "collapsed": false,
    "ExecuteTime": {
     "end_time": "2023-11-30T02:13:06.463116700Z",
     "start_time": "2023-11-30T02:13:06.421986600Z"
    }
   },
   "id": "9e46db28c0fe3a69"
  },
  {
   "cell_type": "markdown",
   "source": [
    "There is one more thing we can do to the **recclass** column which will optimise the space the database is taking in memory. We can change its type from **object** to **category**."
   ],
   "metadata": {
    "collapsed": false
   },
   "id": "2cf136cf9e798c3c"
  },
  {
   "cell_type": "code",
   "execution_count": 173,
   "outputs": [
    {
     "name": "stdout",
     "output_type": "stream",
     "text": [
      "<class 'pandas.core.frame.DataFrame'>\n",
      "RangeIndex: 45716 entries, 0 to 45715\n",
      "Data columns (total 12 columns):\n",
      " #   Column       Non-Null Count  Dtype         \n",
      "---  ------       --------------  -----         \n",
      " 0   name         45716 non-null  object        \n",
      " 1   id           45716 non-null  int64         \n",
      " 2   nametype     45716 non-null  object        \n",
      " 3   recclass     45716 non-null  object        \n",
      " 4   mass (g)     45585 non-null  float64       \n",
      " 5   fall         45716 non-null  object        \n",
      " 6   year         45425 non-null  float64       \n",
      " 7   reclat       38401 non-null  float64       \n",
      " 8   reclong      38401 non-null  float64       \n",
      " 9   GeoLocation  38401 non-null  object        \n",
      " 10  year_fell    45404 non-null  datetime64[ns]\n",
      " 11  class_len    45716 non-null  int64         \n",
      "dtypes: datetime64[ns](1), float64(4), int64(2), object(5)\n",
      "memory usage: 4.2+ MB\n"
     ]
    }
   ],
   "source": [
    "data.info()"
   ],
   "metadata": {
    "collapsed": false,
    "ExecuteTime": {
     "end_time": "2023-11-30T02:29:14.489012Z",
     "start_time": "2023-11-30T02:29:14.450114500Z"
    }
   },
   "id": "6471a9a2b7f79d1"
  },
  {
   "cell_type": "code",
   "execution_count": 174,
   "outputs": [],
   "source": [
    "data['recclass'] = pd.Categorical(data['recclass'])"
   ],
   "metadata": {
    "collapsed": false,
    "ExecuteTime": {
     "end_time": "2023-11-30T02:30:02.969092100Z",
     "start_time": "2023-11-30T02:30:02.931965100Z"
    }
   },
   "id": "b2fa0c4185e4db8b"
  },
  {
   "cell_type": "code",
   "execution_count": 175,
   "outputs": [
    {
     "name": "stdout",
     "output_type": "stream",
     "text": [
      "<class 'pandas.core.frame.DataFrame'>\n",
      "RangeIndex: 45716 entries, 0 to 45715\n",
      "Data columns (total 12 columns):\n",
      " #   Column       Non-Null Count  Dtype         \n",
      "---  ------       --------------  -----         \n",
      " 0   name         45716 non-null  object        \n",
      " 1   id           45716 non-null  int64         \n",
      " 2   nametype     45716 non-null  object        \n",
      " 3   recclass     45716 non-null  category      \n",
      " 4   mass (g)     45585 non-null  float64       \n",
      " 5   fall         45716 non-null  object        \n",
      " 6   year         45425 non-null  float64       \n",
      " 7   reclat       38401 non-null  float64       \n",
      " 8   reclong      38401 non-null  float64       \n",
      " 9   GeoLocation  38401 non-null  object        \n",
      " 10  year_fell    45404 non-null  datetime64[ns]\n",
      " 11  class_len    45716 non-null  int64         \n",
      "dtypes: category(1), datetime64[ns](1), float64(4), int64(2), object(4)\n",
      "memory usage: 3.9+ MB\n"
     ]
    }
   ],
   "source": [
    "data.info()"
   ],
   "metadata": {
    "collapsed": false,
    "ExecuteTime": {
     "end_time": "2023-11-30T02:30:16.329079900Z",
     "start_time": "2023-11-30T02:30:16.289243100Z"
    }
   },
   "id": "f3b16dc13f86444c"
  },
  {
   "cell_type": "code",
   "execution_count": 176,
   "outputs": [],
   "source": [
    "data['fall'] = pd.Categorical(data['fall'])"
   ],
   "metadata": {
    "collapsed": false,
    "ExecuteTime": {
     "end_time": "2023-11-30T03:33:48.178595700Z",
     "start_time": "2023-11-30T03:33:48.174980600Z"
    }
   },
   "id": "622d9a6e66985403"
  },
  {
   "cell_type": "code",
   "execution_count": 179,
   "outputs": [],
   "source": [
    "data['nametype'] = pd.Categorical(data['nametype'])"
   ],
   "metadata": {
    "collapsed": false,
    "ExecuteTime": {
     "end_time": "2023-11-30T03:36:02.408905800Z",
     "start_time": "2023-11-30T03:36:02.398265Z"
    }
   },
   "id": "ec6c9c0d6c40c9c8"
  },
  {
   "cell_type": "code",
   "execution_count": 205,
   "outputs": [
    {
     "name": "stdout",
     "output_type": "stream",
     "text": [
      "<class 'pandas.core.frame.DataFrame'>\n",
      "RangeIndex: 45716 entries, 0 to 45715\n",
      "Data columns (total 12 columns):\n",
      " #   Column       Non-Null Count  Dtype   \n",
      "---  ------       --------------  -----   \n",
      " 0   name         45716 non-null  object  \n",
      " 1   id           45716 non-null  int64   \n",
      " 2   nametype     45716 non-null  category\n",
      " 3   recclass     45716 non-null  category\n",
      " 4   mass (g)     45716 non-null  float64 \n",
      " 5   fall         45716 non-null  category\n",
      " 6   year         45716 non-null  float64 \n",
      " 7   reclat       45716 non-null  float64 \n",
      " 8   reclong      45716 non-null  float64 \n",
      " 9   GeoLocation  45716 non-null  object  \n",
      " 10  year_fell    45716 non-null  object  \n",
      " 11  class_len    45716 non-null  int64   \n",
      "dtypes: category(3), float64(4), int64(2), object(3)\n",
      "memory usage: 3.3+ MB\n"
     ]
    }
   ],
   "source": [
    "data.info()"
   ],
   "metadata": {
    "collapsed": false,
    "ExecuteTime": {
     "end_time": "2023-11-30T04:07:16.225034500Z",
     "start_time": "2023-11-30T04:07:16.212972300Z"
    }
   },
   "id": "fe783e3223ad5c39"
  },
  {
   "cell_type": "markdown",
   "source": [
    "There is still more we can do to 'clean' our data. We should get rid of all the null values by either removing affected rows or filling the missing values with some defaults."
   ],
   "metadata": {
    "collapsed": false
   },
   "id": "575b6b793bc4064a"
  },
  {
   "cell_type": "code",
   "execution_count": 192,
   "outputs": [],
   "source": [
    "data['mass (g)'].fillna(0, inplace=True)"
   ],
   "metadata": {
    "collapsed": false,
    "ExecuteTime": {
     "end_time": "2023-11-30T03:58:02.923515800Z",
     "start_time": "2023-11-30T03:58:02.914244400Z"
    }
   },
   "id": "b097e376455e1dc8"
  },
  {
   "cell_type": "code",
   "execution_count": 195,
   "outputs": [],
   "source": [
    "data['year'].fillna(1, inplace=True)"
   ],
   "metadata": {
    "collapsed": false,
    "ExecuteTime": {
     "end_time": "2023-11-30T03:58:57.737011300Z",
     "start_time": "2023-11-30T03:58:57.713629200Z"
    }
   },
   "id": "2941b28cf9815b9c"
  },
  {
   "cell_type": "code",
   "execution_count": 197,
   "outputs": [],
   "source": [
    "data['reclat'].fillna(0, inplace=True)"
   ],
   "metadata": {
    "collapsed": false,
    "ExecuteTime": {
     "end_time": "2023-11-30T03:59:50.228257500Z",
     "start_time": "2023-11-30T03:59:50.185238700Z"
    }
   },
   "id": "e8c8bb1d3ac32aa9"
  },
  {
   "cell_type": "code",
   "execution_count": 198,
   "outputs": [],
   "source": [
    "data['reclong'].fillna(0, inplace=True)"
   ],
   "metadata": {
    "collapsed": false,
    "ExecuteTime": {
     "end_time": "2023-11-30T04:00:20.883235300Z",
     "start_time": "2023-11-30T04:00:20.847998700Z"
    }
   },
   "id": "7ee49ad99feb0264"
  },
  {
   "cell_type": "code",
   "execution_count": 200,
   "outputs": [],
   "source": [
    "data['GeoLocation'].fillna('(0,0)', inplace=True)"
   ],
   "metadata": {
    "collapsed": false,
    "ExecuteTime": {
     "end_time": "2023-11-30T04:02:05.478160Z",
     "start_time": "2023-11-30T04:02:05.432826700Z"
    }
   },
   "id": "c158ed39cd8a29b1"
  },
  {
   "cell_type": "code",
   "execution_count": 245,
   "outputs": [],
   "source": [
    "data['year_fell'].fillna(pd.Timestamp('0000-01-01'), inplace=True)\n",
    "data['year'] = data['year'].astype(int)"
   ],
   "metadata": {
    "collapsed": false,
    "ExecuteTime": {
     "end_time": "2023-11-30T22:57:43.458150300Z",
     "start_time": "2023-11-30T22:57:43.430997200Z"
    }
   },
   "id": "3396e17a1605a42c"
  },
  {
   "cell_type": "markdown",
   "source": [
    "Now that our data is cleaned we can visualize parts of them using **plot()** method.\n",
    "\n",
    "Let's plot a chart showing the number of meteorites that were recorded to have fallen each year."
   ],
   "metadata": {
    "collapsed": false
   },
   "id": "e12dc4ab4927bde2"
  },
  {
   "cell_type": "code",
   "execution_count": 331,
   "outputs": [],
   "source": [
    "meteorite_per_year = data[data['year'] > 1900].groupby('year', sort=True)['year'].count()"
   ],
   "metadata": {
    "collapsed": false,
    "ExecuteTime": {
     "end_time": "2023-12-01T03:33:33.917630100Z",
     "start_time": "2023-12-01T03:33:33.885750200Z"
    }
   },
   "id": "b000a9476fe546eb"
  },
  {
   "cell_type": "code",
   "execution_count": 332,
   "outputs": [
    {
     "data": {
      "text/plain": "year\n1901      10\n1902      12\n1903      22\n1904      11\n1905      14\n        ... \n2010    1005\n2011     713\n2012     234\n2013      11\n2101       1\nName: year, Length: 114, dtype: int64"
     },
     "execution_count": 332,
     "metadata": {},
     "output_type": "execute_result"
    }
   ],
   "source": [
    "meteorite_per_year"
   ],
   "metadata": {
    "collapsed": false,
    "ExecuteTime": {
     "end_time": "2023-12-01T03:33:34.649044400Z",
     "start_time": "2023-12-01T03:33:34.633840800Z"
    }
   },
   "id": "646c3dec2a536445"
  },
  {
   "cell_type": "markdown",
   "source": [
    "We need to import matplotlib to be able to create nice looking charts. The library lets you customize every little detail."
   ],
   "metadata": {
    "collapsed": false
   },
   "id": "c01cd0f1b3d0c49a"
  },
  {
   "cell_type": "code",
   "execution_count": 247,
   "outputs": [],
   "source": [
    "import matplotlib.pyplot as plt"
   ],
   "metadata": {
    "collapsed": false,
    "ExecuteTime": {
     "end_time": "2023-11-30T22:58:05.650823100Z",
     "start_time": "2023-11-30T22:58:05.631086600Z"
    }
   },
   "id": "fef323c4e642fb7d"
  },
  {
   "cell_type": "code",
   "execution_count": 293,
   "outputs": [
    {
     "data": {
      "text/plain": "<Axes: xlabel='Year'>"
     },
     "execution_count": 293,
     "metadata": {},
     "output_type": "execute_result"
    },
    {
     "data": {
      "text/plain": "<Figure size 640x480 with 1 Axes>",
      "image/png": "[encoded data removed]"
     },
     "metadata": {},
     "output_type": "display_data"
    }
   ],
   "source": [
    "plt.xlim(1920, 2020)\n",
    "plt.xticks(range(1920, 2040, 10))\n",
    "meteorite_per_year.plot(xlabel='Year', rot=45)\n",
    "\n"
   ],
   "metadata": {
    "collapsed": false,
    "ExecuteTime": {
     "end_time": "2023-12-01T00:32:00.971690900Z",
     "start_time": "2023-12-01T00:32:00.881172300Z"
    }
   },
   "id": "a5d35ed30afe19e"
  },
  {
   "cell_type": "markdown",
   "source": [
    "There is a lot more we can read from a graphical representation of our data.\n",
    "\n",
    "Let's now create a pie chart showing how common various meteorite classes are."
   ],
   "metadata": {
    "collapsed": false
   },
   "id": "e51e3c49042e84f0"
  },
  {
   "cell_type": "code",
   "execution_count": 334,
   "outputs": [],
   "source": [
    "meteorite_per_class = data.groupby('recclass', observed=True)['recclass'].count()"
   ],
   "metadata": {
    "collapsed": false,
    "ExecuteTime": {
     "end_time": "2023-12-01T03:42:38.773704300Z",
     "start_time": "2023-12-01T03:42:38.753763300Z"
    }
   },
   "id": "c2cbc60af1feb38a"
  },
  {
   "cell_type": "code",
   "execution_count": 335,
   "outputs": [
    {
     "data": {
      "text/plain": "recclass\nAcapulcoite               54\nAcapulcoite/Lodranite      6\nAcapulcoite/lodranite      3\nAchondrite-prim            9\nAchondrite-ung            57\n                        ... \nUnknown                    7\nUreilite                 300\nUreilite-an                4\nUreilite-pmict            23\nWinonaite                 25\nName: recclass, Length: 465, dtype: int64"
     },
     "execution_count": 335,
     "metadata": {},
     "output_type": "execute_result"
    }
   ],
   "source": [
    "meteorite_per_class"
   ],
   "metadata": {
    "collapsed": false,
    "ExecuteTime": {
     "end_time": "2023-12-01T03:42:42.443765800Z",
     "start_time": "2023-12-01T03:42:42.414359600Z"
    }
   },
   "id": "60c13c2296b0c0"
  },
  {
   "cell_type": "markdown",
   "source": [
    "There are quite a lot of different classes. To make the chart more legible we might want to group the lowest occuring meteors together."
   ],
   "metadata": {
    "collapsed": false
   },
   "id": "f4fac0a4bd669875"
  },
  {
   "cell_type": "code",
   "execution_count": 336,
   "outputs": [],
   "source": [
    "meteorite_per_class.index = meteorite_per_class.index.where(meteorite_per_class > 500, 'Other')\n"
   ],
   "metadata": {
    "collapsed": false,
    "ExecuteTime": {
     "end_time": "2023-12-01T03:44:17.746308500Z",
     "start_time": "2023-12-01T03:44:17.718685400Z"
    }
   },
   "id": "bb0a812b662d61c1"
  },
  {
   "cell_type": "code",
   "execution_count": 337,
   "outputs": [
    {
     "data": {
      "text/plain": "recclass\nOther     54\nOther      6\nOther      3\nOther      9\nOther     57\n        ... \nOther      7\nOther    300\nOther      4\nOther     23\nOther     25\nName: recclass, Length: 465, dtype: int64"
     },
     "execution_count": 337,
     "metadata": {},
     "output_type": "execute_result"
    }
   ],
   "source": [
    "meteorite_per_class"
   ],
   "metadata": {
    "collapsed": false,
    "ExecuteTime": {
     "end_time": "2023-12-01T03:44:23.073643400Z",
     "start_time": "2023-12-01T03:44:23.055107100Z"
    }
   },
   "id": "9bcc43c7b50a2a95"
  },
  {
   "cell_type": "code",
   "execution_count": 338,
   "outputs": [],
   "source": [
    "meteorite_per_class_groupped = meteorite_per_class.groupby(level=0).sum()"
   ],
   "metadata": {
    "collapsed": false,
    "ExecuteTime": {
     "end_time": "2023-12-01T03:44:30.516031500Z",
     "start_time": "2023-12-01T03:44:30.493612800Z"
    }
   },
   "id": "86c1b579c3f6a2f5"
  },
  {
   "cell_type": "code",
   "execution_count": 339,
   "outputs": [
    {
     "data": {
      "text/plain": "<Axes: ylabel='recclass'>"
     },
     "execution_count": 339,
     "metadata": {},
     "output_type": "execute_result"
    },
    {
     "data": {
      "text/plain": "<Figure size 640x480 with 1 Axes>",
      "image/png": "[encoded data removed]"
     },
     "metadata": {},
     "output_type": "display_data"
    }
   ],
   "source": [
    "meteorite_per_class_groupped.plot(kind='pie')"
   ],
   "metadata": {
    "collapsed": false,
    "ExecuteTime": {
     "end_time": "2023-12-01T03:44:32.137955800Z",
     "start_time": "2023-12-01T03:44:32.083385300Z"
    }
   },
   "id": "108a8fd5b4663f9a"
  },
  {
   "cell_type": "code",
   "execution_count": null,
   "outputs": [],
   "source": [],
   "metadata": {
    "collapsed": false
   },
   "id": "2e66b39a38ffcfac"
  }
 ],
 "metadata": {
  "kernelspec": {
   "display_name": "Python 3",
   "language": "python",
   "name": "python3"
  },
  "language_info": {
   "codemirror_mode": {
    "name": "ipython",
    "version": 2
   },
   "file_extension": ".py",
   "mimetype": "text/x-python",
   "name": "python",
   "nbconvert_exporter": "python",
   "pygments_lexer": "ipython2",
   "version": "2.7.6"
  }
 },
 "nbformat": 4,
 "nbformat_minor": 5
}
